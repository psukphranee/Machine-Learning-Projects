{
  "cells": [
    {
      "cell_type": "markdown",
      "metadata": {
        "id": "view-in-github",
        "colab_type": "text"
      },
      "source": [
        "<a href=\"https://colab.research.google.com/github/psukphranee/Machine-Learning-Projects/blob/master/Implement_Basic_CNN_for_Fashion_MNIST.ipynb\" target=\"_parent\"><img src=\"https://colab.research.google.com/assets/colab-badge.svg\" alt=\"Open In Colab\"/></a>"
      ]
    },
    {
      "cell_type": "code",
      "execution_count": null,
      "metadata": {
        "id": "uGOocZFPAV7a"
      },
      "outputs": [],
      "source": [
        "import tensorflow as tf\n",
        "from tensorflow import keras\n",
        "\n",
        "import matplotlib.pyplot as plt\n",
        "import numpy as np"
      ]
    },
    {
      "cell_type": "code",
      "execution_count": null,
      "metadata": {
        "colab": {
          "base_uri": "https://localhost:8080/"
        },
        "id": "VB3nJAX5AqWf",
        "outputId": "f826bf5b-702e-4eb4-a44f-020927d4b03a"
      },
      "outputs": [
        {
          "name": "stdout",
          "output_type": "stream",
          "text": [
            "Downloading data from https://storage.googleapis.com/tensorflow/tf-keras-datasets/train-labels-idx1-ubyte.gz\n",
            "29515/29515 [==============================] - 0s 0us/step\n",
            "Downloading data from https://storage.googleapis.com/tensorflow/tf-keras-datasets/train-images-idx3-ubyte.gz\n",
            "26421880/26421880 [==============================] - 1s 0us/step\n",
            "Downloading data from https://storage.googleapis.com/tensorflow/tf-keras-datasets/t10k-labels-idx1-ubyte.gz\n",
            "5148/5148 [==============================] - 0s 0us/step\n",
            "Downloading data from https://storage.googleapis.com/tensorflow/tf-keras-datasets/t10k-images-idx3-ubyte.gz\n",
            "4422102/4422102 [==============================] - 1s 0us/step\n"
          ]
        }
      ],
      "source": [
        "#load dataset\n",
        "(x_train_full, y_train_full), (x_test, y_test) = keras.datasets.fashion_mnist.load_data()\n",
        "assert x_train_full.shape == (60000, 28, 28)\n",
        "assert x_test.shape == (10000, 28, 28)\n",
        "assert y_train_full.shape == (60000,)\n",
        "assert y_test.shape == (10000,)\n"
      ]
    },
    {
      "cell_type": "code",
      "execution_count": null,
      "metadata": {
        "id": "uMkWWAdOBEKh"
      },
      "outputs": [],
      "source": [
        "#split training into validation\n",
        "x_train, x_valid = x_train_full[:-5000], x_train_full[5000:]\n",
        "y_train, y_valid = y_train_full[:-5000], y_train_full[5000:]"
      ]
    },
    {
      "cell_type": "code",
      "execution_count": null,
      "metadata": {
        "id": "BpaIPb6SGJQV"
      },
      "outputs": [],
      "source": [
        "#build model\n",
        "model = keras.models.Sequential([\n",
        "    keras.layers.Conv2D(filters=64, kernel_size=7, activation=\"relu\", padding=\"same\", input_shape=[28,28,1]),\n",
        "    keras.layers.MaxPool2D(pool_size=2),\n",
        "    keras.layers.Conv2D(filters=128, kernel_size=3, activation=\"relu\", padding=\"same\"),\n",
        "    keras.layers.Conv2D(filters=128, kernel_size=3, activation=\"relu\", padding=\"same\"),\n",
        "    keras.layers.MaxPool2D(pool_size=2),\n",
        "    keras.layers.Conv2D(filters=256, kernel_size=3, activation=\"relu\", padding=\"same\"),\n",
        "    keras.layers.Conv2D(filters=256, kernel_size=3, activation=\"relu\", padding=\"same\"),\n",
        "    keras.layers.MaxPool2D(pool_size=2),\n",
        "    keras.layers.Flatten(),\n",
        "    keras.layers.Dense(128,  activation=\"relu\"),\n",
        "    keras.layers.Dropout(rate=0.5),\n",
        "    keras.layers.Dense(64,  activation=\"relu\"),\n",
        "    keras.layers.Dropout(rate=0.5),\n",
        "    keras.layers.Dense(10,  activation=\"softmax\")]\n",
        ")"
      ]
    },
    {
      "cell_type": "code",
      "execution_count": null,
      "metadata": {
        "id": "QKc4FsHcMnvv"
      },
      "outputs": [],
      "source": [
        "model.compile(loss=\"sparse_categorical_crossentropy\", optimizer=\"nadam\", metrics=[\"accuracy\"])"
      ]
    },
    {
      "cell_type": "code",
      "execution_count": null,
      "metadata": {
        "colab": {
          "base_uri": "https://localhost:8080/"
        },
        "id": "jYeWvlwRs43j",
        "outputId": "7367a805-8b43-4880-dc13-49ba7769797f"
      },
      "outputs": [
        {
          "data": {
            "text/plain": [
              "['.config', 'drive', 'sample_data']"
            ]
          },
          "execution_count": 10,
          "metadata": {},
          "output_type": "execute_result"
        }
      ],
      "source": [
        "import os\n",
        "\n",
        "os.listdir()"
      ]
    },
    {
      "cell_type": "code",
      "execution_count": null,
      "metadata": {
        "id": "_rmGPbq-tEts"
      },
      "outputs": [],
      "source": [
        "os.getcwd()\n",
        "\n",
        "# Specify the path in Google Drive\n",
        "drive_path = '/content/drive/MyDrive/Colab Notebooks/'\n",
        "\n",
        "# Combine the paths for checkpoint saving\n",
        "checkpoint_path = os.path.join(drive_path, \"training_1/cp.ckpt\")\n",
        "checkpoint_dir = os.path.dirname(checkpoint_path)\n",
        "\n",
        "# Create a callback that saves the model's weights\n",
        "cp_callback =  tf.keras.callbacks.ModelCheckpoint(filepath=checkpoint_path,\n",
        "                              save_weights_only=True,\n",
        "                              verbose=1)\n"
      ]
    },
    {
      "cell_type": "code",
      "execution_count": null,
      "metadata": {
        "colab": {
          "background_save": true,
          "base_uri": "https://localhost:8080/"
        },
        "id": "3rX_oiHdQfcP",
        "outputId": "8243b2d6-e9c5-4f9a-bb2f-001479bbdacf"
      },
      "outputs": [
        {
          "name": "stdout",
          "output_type": "stream",
          "text": [
            "Epoch 1/10\n",
            "1719/1719 [==============================] - ETA: 0s - loss: 0.5838 - accuracy: 0.8015\n",
            "Epoch 1: saving model to /content/drive/MyDrive/Colab Notebooks/training_1/cp.ckpt\n",
            "1719/1719 [==============================] - 1098s 639ms/step - loss: 0.5838 - accuracy: 0.8015 - val_loss: 0.4733 - val_accuracy: 0.8260\n",
            "Epoch 2/10\n",
            "1719/1719 [==============================] - ETA: 0s - loss: 0.4730 - accuracy: 0.8387\n",
            "Epoch 2: saving model to /content/drive/MyDrive/Colab Notebooks/training_1/cp.ckpt\n",
            "1719/1719 [==============================] - 1090s 634ms/step - loss: 0.4730 - accuracy: 0.8387 - val_loss: 0.3592 - val_accuracy: 0.8698\n",
            "Epoch 3/10\n",
            "1719/1719 [==============================] - ETA: 0s - loss: 0.4260 - accuracy: 0.8544\n",
            "Epoch 3: saving model to /content/drive/MyDrive/Colab Notebooks/training_1/cp.ckpt\n",
            "1719/1719 [==============================] - 1032s 601ms/step - loss: 0.4260 - accuracy: 0.8544 - val_loss: 0.3583 - val_accuracy: 0.8650\n",
            "Epoch 4/10\n",
            "1719/1719 [==============================] - ETA: 0s - loss: 0.4007 - accuracy: 0.8626\n",
            "Epoch 4: saving model to /content/drive/MyDrive/Colab Notebooks/training_1/cp.ckpt\n",
            "1719/1719 [==============================] - 1028s 598ms/step - loss: 0.4007 - accuracy: 0.8626 - val_loss: 0.2919 - val_accuracy: 0.8878\n",
            "Epoch 5/10\n",
            "1719/1719 [==============================] - ETA: 0s - loss: 0.3909 - accuracy: 0.8653\n",
            "Epoch 5: saving model to /content/drive/MyDrive/Colab Notebooks/training_1/cp.ckpt\n",
            "1719/1719 [==============================] - 1078s 627ms/step - loss: 0.3909 - accuracy: 0.8653 - val_loss: 0.3029 - val_accuracy: 0.8862\n",
            "Epoch 6/10\n",
            "1719/1719 [==============================] - ETA: 0s - loss: 0.3677 - accuracy: 0.8735\n",
            "Epoch 6: saving model to /content/drive/MyDrive/Colab Notebooks/training_1/cp.ckpt\n",
            "1719/1719 [==============================] - 1041s 606ms/step - loss: 0.3677 - accuracy: 0.8735 - val_loss: 0.2726 - val_accuracy: 0.8977\n",
            "Epoch 7/10\n",
            "1719/1719 [==============================] - ETA: 0s - loss: 0.3636 - accuracy: 0.8746"
          ]
        }
      ],
      "source": [
        "history = model.fit(x_train, y_train, validation_data=(x_valid, y_valid), epochs=10, callbacks=[cp_callback])"
      ]
    }
  ],
  "metadata": {
    "colab": {
      "provenance": [],
      "mount_file_id": "1GHyAIKpr0pTnWdFTOsn3YXOVHJr1K_Rj",
      "authorship_tag": "ABX9TyOnUZYQvDJO7qVAJWzqQOKM",
      "include_colab_link": true
    },
    "kernelspec": {
      "display_name": "Python 3",
      "name": "python3"
    },
    "language_info": {
      "name": "python"
    }
  },
  "nbformat": 4,
  "nbformat_minor": 0
}