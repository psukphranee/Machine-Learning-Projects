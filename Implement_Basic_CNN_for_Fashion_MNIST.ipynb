{
  "cells": [
    {
      "cell_type": "markdown",
      "metadata": {
        "id": "view-in-github",
        "colab_type": "text"
      },
      "source": [
        "<a href=\"https://colab.research.google.com/github/psukphranee/Machine-Learning-Projects/blob/master/Implement_Basic_CNN_for_Fashion_MNIST.ipynb\" target=\"_parent\"><img src=\"https://colab.research.google.com/assets/colab-badge.svg\" alt=\"Open In Colab\"/></a>"
      ]
    },
    {
      "cell_type": "code",
      "execution_count": 1,
      "metadata": {
        "id": "uGOocZFPAV7a"
      },
      "outputs": [],
      "source": [
        "import tensorflow as tf\n",
        "from tensorflow import keras\n",
        "\n",
        "import matplotlib.pyplot as plt\n",
        "import numpy as np"
      ]
    },
    {
      "cell_type": "code",
      "execution_count": 2,
      "metadata": {
        "colab": {
          "base_uri": "https://localhost:8080/"
        },
        "id": "VB3nJAX5AqWf",
        "outputId": "42417944-4ec1-4bc8-e588-ee75cf4870b1"
      },
      "outputs": [
        {
          "output_type": "stream",
          "name": "stdout",
          "text": [
            "Downloading data from https://storage.googleapis.com/tensorflow/tf-keras-datasets/train-labels-idx1-ubyte.gz\n",
            "29515/29515 [==============================] - 0s 0us/step\n",
            "Downloading data from https://storage.googleapis.com/tensorflow/tf-keras-datasets/train-images-idx3-ubyte.gz\n",
            "26421880/26421880 [==============================] - 2s 0us/step\n",
            "Downloading data from https://storage.googleapis.com/tensorflow/tf-keras-datasets/t10k-labels-idx1-ubyte.gz\n",
            "5148/5148 [==============================] - 0s 0us/step\n",
            "Downloading data from https://storage.googleapis.com/tensorflow/tf-keras-datasets/t10k-images-idx3-ubyte.gz\n",
            "4422102/4422102 [==============================] - 1s 0us/step\n"
          ]
        }
      ],
      "source": [
        "#load dataset\n",
        "(x_train_full, y_train_full), (x_test, y_test) = keras.datasets.fashion_mnist.load_data()\n",
        "assert x_train_full.shape == (60000, 28, 28)\n",
        "assert x_test.shape == (10000, 28, 28)\n",
        "assert y_train_full.shape == (60000,)\n",
        "assert y_test.shape == (10000,)\n"
      ]
    },
    {
      "cell_type": "code",
      "execution_count": 3,
      "metadata": {
        "id": "uMkWWAdOBEKh"
      },
      "outputs": [],
      "source": [
        "#split training into validation\n",
        "x_train, x_valid = x_train_full[:-5000], x_train_full[5000:]\n",
        "y_train, y_valid = y_train_full[:-5000], y_train_full[5000:]"
      ]
    },
    {
      "cell_type": "code",
      "execution_count": 4,
      "metadata": {
        "id": "BpaIPb6SGJQV"
      },
      "outputs": [],
      "source": [
        "#build model\n",
        "model = keras.models.Sequential([\n",
        "    keras.layers.Conv2D(filters=64, kernel_size=7, activation=\"relu\", padding=\"same\", input_shape=[28,28,1]),\n",
        "    keras.layers.MaxPool2D(pool_size=2),\n",
        "    keras.layers.Conv2D(filters=128, kernel_size=3, activation=\"relu\", padding=\"same\"),\n",
        "    keras.layers.Conv2D(filters=128, kernel_size=3, activation=\"relu\", padding=\"same\"),\n",
        "    keras.layers.MaxPool2D(pool_size=2),\n",
        "    keras.layers.Conv2D(filters=256, kernel_size=3, activation=\"relu\", padding=\"same\"),\n",
        "    keras.layers.Conv2D(filters=256, kernel_size=3, activation=\"relu\", padding=\"same\"),\n",
        "    keras.layers.MaxPool2D(pool_size=2),\n",
        "    keras.layers.Flatten(),\n",
        "    keras.layers.Dense(128,  activation=\"relu\"),\n",
        "    keras.layers.Dropout(rate=0.5),\n",
        "    keras.layers.Dense(64,  activation=\"relu\"),\n",
        "    keras.layers.Dropout(rate=0.5),\n",
        "    keras.layers.Dense(10,  activation=\"softmax\")]\n",
        ")"
      ]
    },
    {
      "cell_type": "code",
      "execution_count": 5,
      "metadata": {
        "id": "QKc4FsHcMnvv"
      },
      "outputs": [],
      "source": [
        "model.compile(loss=\"sparse_categorical_crossentropy\", optimizer=\"nadam\", metrics=[\"accuracy\"])"
      ]
    },
    {
      "cell_type": "code",
      "execution_count": 6,
      "metadata": {
        "colab": {
          "base_uri": "https://localhost:8080/"
        },
        "id": "jYeWvlwRs43j",
        "outputId": "492e5286-ec87-4b4c-9468-60b26c70839a"
      },
      "outputs": [
        {
          "output_type": "execute_result",
          "data": {
            "text/plain": [
              "['.config', 'drive', 'sample_data']"
            ]
          },
          "metadata": {},
          "execution_count": 6
        }
      ],
      "source": [
        "import os\n",
        "\n",
        "os.listdir()"
      ]
    },
    {
      "cell_type": "code",
      "execution_count": 7,
      "metadata": {
        "id": "_rmGPbq-tEts"
      },
      "outputs": [],
      "source": [
        "os.getcwd()\n",
        "\n",
        "# Specify the path in Google Drive\n",
        "drive_path = '/content/drive/MyDrive/Colab Notebooks/'\n",
        "\n",
        "# Combine the paths for checkpoint saving\n",
        "checkpoint_path = os.path.join(drive_path, \"training_1/cp.ckpt\")\n",
        "checkpoint_dir = os.path.dirname(checkpoint_path)\n",
        "\n",
        "# Create a callback that saves the model's weights\n",
        "cp_callback =  tf.keras.callbacks.ModelCheckpoint(filepath=checkpoint_path,\n",
        "                              save_weights_only=True,\n",
        "                              verbose=1)\n"
      ]
    },
    {
      "cell_type": "code",
      "execution_count": null,
      "metadata": {
        "colab": {
          "background_save": true,
          "base_uri": "https://localhost:8080/"
        },
        "id": "3rX_oiHdQfcP",
        "outputId": "8243b2d6-e9c5-4f9a-bb2f-001479bbdacf"
      },
      "outputs": [
        {
          "name": "stdout",
          "output_type": "stream",
          "text": [
            "Epoch 1/10\n",
            "1719/1719 [==============================] - ETA: 0s - loss: 0.5838 - accuracy: 0.8015\n",
            "Epoch 1: saving model to /content/drive/MyDrive/Colab Notebooks/training_1/cp.ckpt\n",
            "1719/1719 [==============================] - 1098s 639ms/step - loss: 0.5838 - accuracy: 0.8015 - val_loss: 0.4733 - val_accuracy: 0.8260\n",
            "Epoch 2/10\n",
            "1719/1719 [==============================] - ETA: 0s - loss: 0.4730 - accuracy: 0.8387\n",
            "Epoch 2: saving model to /content/drive/MyDrive/Colab Notebooks/training_1/cp.ckpt\n",
            "1719/1719 [==============================] - 1090s 634ms/step - loss: 0.4730 - accuracy: 0.8387 - val_loss: 0.3592 - val_accuracy: 0.8698\n",
            "Epoch 3/10\n",
            "1719/1719 [==============================] - ETA: 0s - loss: 0.4260 - accuracy: 0.8544\n",
            "Epoch 3: saving model to /content/drive/MyDrive/Colab Notebooks/training_1/cp.ckpt\n",
            "1719/1719 [==============================] - 1032s 601ms/step - loss: 0.4260 - accuracy: 0.8544 - val_loss: 0.3583 - val_accuracy: 0.8650\n",
            "Epoch 4/10\n",
            "1719/1719 [==============================] - ETA: 0s - loss: 0.4007 - accuracy: 0.8626\n",
            "Epoch 4: saving model to /content/drive/MyDrive/Colab Notebooks/training_1/cp.ckpt\n",
            "1719/1719 [==============================] - 1028s 598ms/step - loss: 0.4007 - accuracy: 0.8626 - val_loss: 0.2919 - val_accuracy: 0.8878\n",
            "Epoch 5/10\n",
            "1719/1719 [==============================] - ETA: 0s - loss: 0.3909 - accuracy: 0.8653\n",
            "Epoch 5: saving model to /content/drive/MyDrive/Colab Notebooks/training_1/cp.ckpt\n",
            "1719/1719 [==============================] - 1078s 627ms/step - loss: 0.3909 - accuracy: 0.8653 - val_loss: 0.3029 - val_accuracy: 0.8862\n",
            "Epoch 6/10\n",
            "1719/1719 [==============================] - ETA: 0s - loss: 0.3677 - accuracy: 0.8735\n",
            "Epoch 6: saving model to /content/drive/MyDrive/Colab Notebooks/training_1/cp.ckpt\n",
            "1719/1719 [==============================] - 1041s 606ms/step - loss: 0.3677 - accuracy: 0.8735 - val_loss: 0.2726 - val_accuracy: 0.8977\n",
            "Epoch 7/10\n",
            "1719/1719 [==============================] - ETA: 0s - loss: 0.3636 - accuracy: 0.8746"
          ]
        }
      ],
      "source": [
        "#DO NOT RUN THIS CELL\n",
        "#training stopped at 7/10 epochs. gonna skip this cell and load the weights that were saved\n",
        "\n",
        "history = model.fit(x_train, y_train, validation_data=(x_valid, y_valid), epochs=10, callbacks=[cp_callback])"
      ]
    },
    {
      "cell_type": "code",
      "source": [
        "model.load_weights(checkpoint_path)"
      ],
      "metadata": {
        "colab": {
          "base_uri": "https://localhost:8080/"
        },
        "id": "fLTFVtV54Rdi",
        "outputId": "9f0c6930-4bef-4dc7-e2a3-cadd429c4e47"
      },
      "execution_count": 8,
      "outputs": [
        {
          "output_type": "execute_result",
          "data": {
            "text/plain": [
              "<tensorflow.python.checkpoint.checkpoint.CheckpointLoadStatus at 0x7ab3a97cfa00>"
            ]
          },
          "metadata": {},
          "execution_count": 8
        }
      ]
    },
    {
      "cell_type": "code",
      "source": [
        "history = model.fit(x_train, y_train, validation_data=(x_valid, y_valid), epochs=3, callbacks=[cp_callback])"
      ],
      "metadata": {
        "colab": {
          "base_uri": "https://localhost:8080/"
        },
        "id": "FPO2OWG95dCK",
        "outputId": "f7e25883-d2ce-4d86-db74-469dbb73dfae"
      },
      "execution_count": 9,
      "outputs": [
        {
          "output_type": "stream",
          "name": "stdout",
          "text": [
            "Epoch 1/3\n",
            "1719/1719 [==============================] - ETA: 0s - loss: 0.3636 - accuracy: 0.8759\n",
            "Epoch 1: saving model to /content/drive/MyDrive/Colab Notebooks/training_1/cp.ckpt\n",
            "1719/1719 [==============================] - 921s 524ms/step - loss: 0.3636 - accuracy: 0.8759 - val_loss: 0.2844 - val_accuracy: 0.8911\n",
            "Epoch 2/3\n",
            "1719/1719 [==============================] - ETA: 0s - loss: 0.3534 - accuracy: 0.8769\n",
            "Epoch 2: saving model to /content/drive/MyDrive/Colab Notebooks/training_1/cp.ckpt\n",
            "1719/1719 [==============================] - 914s 532ms/step - loss: 0.3534 - accuracy: 0.8769 - val_loss: 0.2789 - val_accuracy: 0.8927\n",
            "Epoch 3/3\n",
            "1719/1719 [==============================] - ETA: 0s - loss: 0.3506 - accuracy: 0.8811\n",
            "Epoch 3: saving model to /content/drive/MyDrive/Colab Notebooks/training_1/cp.ckpt\n",
            "1719/1719 [==============================] - 895s 520ms/step - loss: 0.3506 - accuracy: 0.8811 - val_loss: 0.2730 - val_accuracy: 0.9000\n"
          ]
        }
      ]
    },
    {
      "cell_type": "code",
      "source": [
        "score = model.evaluate(x_test, y_test)"
      ],
      "metadata": {
        "colab": {
          "base_uri": "https://localhost:8080/"
        },
        "id": "ogR61Fk1D_G4",
        "outputId": "b812edbc-0a89-4bbb-ad4c-9bc7b01204be"
      },
      "execution_count": 10,
      "outputs": [
        {
          "output_type": "stream",
          "name": "stdout",
          "text": [
            "313/313 [==============================] - 37s 119ms/step - loss: 0.3427 - accuracy: 0.8815\n"
          ]
        }
      ]
    },
    {
      "cell_type": "code",
      "source": [
        "score"
      ],
      "metadata": {
        "colab": {
          "base_uri": "https://localhost:8080/"
        },
        "id": "rE5tAjzOFsYm",
        "outputId": "e046ef7f-5742-4340-90d5-1bb65aa6b989"
      },
      "execution_count": 11,
      "outputs": [
        {
          "output_type": "execute_result",
          "data": {
            "text/plain": [
              "[0.3426986634731293, 0.8815000057220459]"
            ]
          },
          "metadata": {},
          "execution_count": 11
        }
      ]
    },
    {
      "cell_type": "code",
      "source": [
        "x_new = x_test[:12]\n",
        "y_pred = model.predict(x_new)"
      ],
      "metadata": {
        "colab": {
          "base_uri": "https://localhost:8080/"
        },
        "id": "KkVf9wBxG9ov",
        "outputId": "d68882cd-1da5-43e8-c3ce-6a3332518463"
      },
      "execution_count": 29,
      "outputs": [
        {
          "output_type": "stream",
          "name": "stdout",
          "text": [
            "1/1 [==============================] - 0s 67ms/step\n"
          ]
        }
      ]
    },
    {
      "cell_type": "code",
      "source": [
        "#axis=1 max along row. axis=0 is along columns. i think this is vice versa in matlab??\n",
        "y_pred_class = np.argmax(y_pred, axis=1)\n",
        "y_pred_class"
      ],
      "metadata": {
        "colab": {
          "base_uri": "https://localhost:8080/"
        },
        "id": "CffE1PeZHFaE",
        "outputId": "329f02bf-1236-4b6d-9d78-89bf507f74fd"
      },
      "execution_count": 30,
      "outputs": [
        {
          "output_type": "execute_result",
          "data": {
            "text/plain": [
              "array([9, 2, 1, 1, 6, 1, 4, 6, 5, 7, 4, 5])"
            ]
          },
          "metadata": {},
          "execution_count": 30
        }
      ]
    },
    {
      "cell_type": "code",
      "source": [
        "y_pred.shape"
      ],
      "metadata": {
        "colab": {
          "base_uri": "https://localhost:8080/"
        },
        "id": "LRWR0rZTH4Nc",
        "outputId": "54cfb990-d416-466c-83a0-6c7c4aab1051"
      },
      "execution_count": 31,
      "outputs": [
        {
          "output_type": "execute_result",
          "data": {
            "text/plain": [
              "(12, 10)"
            ]
          },
          "metadata": {},
          "execution_count": 31
        }
      ]
    },
    {
      "cell_type": "code",
      "source": [
        "class_labels = [\n",
        "    \"T-shirt/top\",\n",
        "    \"Trouser\",\n",
        "    \"Pullover\",\n",
        "    \"Dress\",\n",
        "    \"Coat\",\n",
        "    \"Sandal\",\n",
        "    \"Shirt\",\n",
        "    \"Sneaker\",\n",
        "    \"Bag\",\n",
        "    \"Ankle boot\"\n",
        "]\n"
      ],
      "metadata": {
        "id": "I-N5w6I3Krka"
      },
      "execution_count": 38,
      "outputs": []
    },
    {
      "cell_type": "code",
      "source": [
        "\n",
        "# Assuming you have x_new and predicted_labels\n",
        "for row in range(3):  # Adjust the range based on your actual data size\n",
        "    for col in range(4):  # Adjust the range based on your actual data size\n",
        "        index = row * 4 + col\n",
        "        plt.subplot(3, 4, index + 1)  # index starts at 1\n",
        "        plt.imshow(x_new[index])\n",
        "        plt.title(class_labels[y_pred_class[index]])\n",
        "        plt.axis('off')  # Turn off axis labels for clarity\n",
        "\n",
        "plt.show()\n"
      ],
      "metadata": {
        "colab": {
          "base_uri": "https://localhost:8080/",
          "height": 428
        },
        "id": "q4Khy3ZSH53B",
        "outputId": "aaaf2ee7-ee88-41bf-a866-7ad06d52a4ea"
      },
      "execution_count": 41,
      "outputs": [
        {
          "output_type": "display_data",
          "data": {
            "text/plain": [
              "<Figure size 640x480 with 12 Axes>"
            ],
            "image/png": "[encoded data removed]"
          },
          "metadata": {}
        }
      ]
    }
  ],
  "metadata": {
    "colab": {
      "provenance": [],
      "mount_file_id": "1GHyAIKpr0pTnWdFTOsn3YXOVHJr1K_Rj",
      "authorship_tag": "ABX9TyP8c0/8iMxSolsBDmPIK73W",
      "include_colab_link": true
    },
    "kernelspec": {
      "display_name": "Python 3",
      "name": "python3"
    },
    "language_info": {
      "name": "python"
    }
  },
  "nbformat": 4,
  "nbformat_minor": 0
}