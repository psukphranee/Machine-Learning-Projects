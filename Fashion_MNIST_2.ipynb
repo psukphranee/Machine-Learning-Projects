{
  "nbformat": 4,
  "nbformat_minor": 0,
  "metadata": {
    "colab": {
      "name": "Fashion MNIST 2.ipynb",
      "provenance": [],
      "authorship_tag": "ABX9TyPvQ0b0oIJM6IlS2uM7MKHj",
      "include_colab_link": true
    },
    "kernelspec": {
      "name": "python3",
      "display_name": "Python 3"
    },
    "language_info": {
      "name": "python"
    }
  },
  "cells": [
    {
      "cell_type": "markdown",
      "metadata": {
        "id": "view-in-github",
        "colab_type": "text"
      },
      "source": [
        "<a href=\"https://colab.research.google.com/github/psukphranee/Machine-Learning-Projects/blob/master/Fashion_MNIST_2.ipynb\" target=\"_parent\"><img src=\"https://colab.research.google.com/assets/colab-badge.svg\" alt=\"Open In Colab\"/></a>"
      ]
    },
    {
      "cell_type": "markdown",
      "source": [
        "#Fashion MNIST\n",
        "\n",
        "## Introduction\n",
        "\n",
        "This dataset is the analog of the MNIST dataset. It conatins sample images of ten types of clothing articles. We'll build and train a neural network to categorize the clothing type. The neural network is a multi-layer perceptron. The term **perceptron** seems to be used ambiguously in different resources. I use the **perception** to mean a layer, which consists of **neurons** or **TLUs**. "
      ],
      "metadata": {
        "id": "bs5YIBKGdxjT"
      }
    },
    {
      "cell_type": "code",
      "source": [
        "import numpy as np\n",
        "import matplotlib.pyplot as plt\n",
        "import pandas as pd\n",
        "import tensorflow as tf\n",
        "from tensorflow import keras"
      ],
      "metadata": {
        "id": "DTT-nl-ejn1K"
      },
      "execution_count": 1,
      "outputs": []
    },
    {
      "cell_type": "markdown",
      "source": [
        "# Data\n",
        "\n",
        "We use the Keras API to load this built-in dataset. The load_data() method returns train and test sets already separated. There are 60,000 training samples and 10,000 testing samples. \n",
        "\n",
        "The samples are 28x28 grayscale images in the format of numpy arrays. Each entry is some pixel intensity from 0 to 255. The datatype is an 8-bit unsigned integer. Lables range from 0 to 9 according to the following:\n",
        "\n",
        "|      0      |    1    |     2    | 3     | 4    | 5      | 6     | 7       | 8   | 9          |\n",
        "|:-----------:|:-------:|:--------:|-------|------|--------|-------|---------|-----|------------|\n",
        "| T-shirt/top | Trouser | Pullover | Dress | Coat | Sandal | Shirt | Sneaker | Bag | Ankle Boot |"
      ],
      "metadata": {
        "id": "kczY8UMedxs7"
      }
    },
    {
      "cell_type": "code",
      "source": [
        "(x_train, y_train), (x_test, y_test) = keras.datasets.fashion_mnist.load_data();\n",
        "assert x_train.shape == (60000, 28, 28);\n",
        "assert y_train.shape == (60000,);\n",
        "assert x_test.shape == (10000, 28, 28);\n",
        "assert y_test.shape == (10000,);"
      ],
      "metadata": {
        "id": "72FmCGI_gt88"
      },
      "execution_count": 2,
      "outputs": []
    },
    {
      "cell_type": "markdown",
      "source": [
        "Labels are numeric so we'll create a list of their names. \n",
        "\n",
        "We also **normalize** the features for better optimization. Feature scaling helps allow the step to not overshoot or undershoot since gradients along each dimension are closer. "
      ],
      "metadata": {
        "id": "V8RBV5T6xDx-"
      }
    },
    {
      "cell_type": "code",
      "source": [
        "y_labels = ['T-shirt/Top','Trouser','Pullover','Dress','Coat','Sandal','Shirt','Sneaker','Bag','Ankle Boot'];\n",
        "x_train = x_train/255.0;"
      ],
      "metadata": {
        "id": "B_Kqragdqvkh"
      },
      "execution_count": 3,
      "outputs": []
    },
    {
      "cell_type": "code",
      "source": [
        "x_valid, y_valid = x_train[:5000], y_train[:5000]\n",
        "x_train, y_train = x_train[5000:], y_train[5000:]"
      ],
      "metadata": {
        "id": "yCttyZOZ8W8s"
      },
      "execution_count": 4,
      "outputs": []
    },
    {
      "cell_type": "markdown",
      "source": [
        "## Preview"
      ],
      "metadata": {
        "id": "siPnzDbD8L9H"
      }
    },
    {
      "cell_type": "code",
      "source": [
        "fig, ax = plt.subplots(1,3, figsize=(25,5))\n",
        "ax[0].imshow(x_train[0], cmap='gray')\n",
        "ax[0].set_title(y_labels[y_train[0]])\n",
        "ax[1].imshow(x_train[1], cmap='gray')\n",
        "ax[1].set_title(y_labels[y_train[1]])\n",
        "ax[2].imshow(x_train[2], cmap='gray')\n",
        "ax[2].set_title(y_labels[y_train[2]])\n",
        "plt.show()\n"
      ],
      "metadata": {
        "colab": {
          "base_uri": "https://localhost:8080/",
          "height": 336
        },
        "id": "DfNnBePYk1mw",
        "outputId": "c2599e9b-3f7a-4361-9a19-91d0263c9f92"
      },
      "execution_count": 5,
      "outputs": [
        {
          "output_type": "display_data",
          "data": {
            "text/plain": [
              "<Figure size 1800x360 with 3 Axes>"
            ],
            "image/png": "[encoded data removed]"
          },
          "metadata": {
            "needs_background": "light"
          }
        }
      ]
    },
    {
      "cell_type": "markdown",
      "source": [
        "# Model\n",
        "\n",
        "Our model will consist of  one input layer, two hidden layers, and one output layer. Each of the hidden layers are dense, meaning each neuron is connected to each of the previous layers neurons.\n",
        "\n",
        "**ReLU**\n",
        "\n",
        "The ReLU activation function is default for many neural networks, according to sources. ReLU is a piecewise linear function that zeros out negative output and leaves positive outputs alone. There are several benefits to ReLU over the S-shaped activations such as ```sigmoid``` and ```tanh```. The non-linearity of the entire function allows for learning non-linear patterns. Meanwhile the derivative is constant (peicewise),\n",
        "\n",
        "$\n",
        "\\dfrac{d}{dx} ReLU(x) = \n",
        "\\begin{cases} \n",
        "      0 & x \\lt 0 \\\\\n",
        "      1 & x \\geq 0 \n",
        "\\end{cases}\n",
        "$\n",
        "\n",
        "The constant derivative matters when dealing with deep networks because of how the backpropagation algorithm works. Backpropogation is the algorithm used to calculate gradients on a neural network. \n",
        "\n",
        "**Softmax**\n",
        "\n",
        "The final layers uses a softmax activation function, also known as a normalized exponential.\n",
        "\n",
        "$\n",
        "\\hat{p_k} = \\sigma(s(x))_k = \\dfrac{exp(s_k(x))}{\\sum\\limits_{j=1}^K exp(s_j(x))}\n",
        "$\n",
        "\n",
        "[A. Geron - Hands-on Machine Learning... pg 148]\n",
        "\n",
        "Each neuron in the output layer outputs a probability $p_k$ given by the $k^{th}$ component of the softmax functions output. The softmax function takes the exponential of all neurons and normalizes them. \n",
        "\n"
      ],
      "metadata": {
        "id": "BZVbsojhdxvi"
      }
    },
    {
      "cell_type": "code",
      "source": [
        "model = keras.models.Sequential(\n",
        "    [\n",
        "     keras.layers.Flatten(input_shape=[28,28]),\n",
        "     keras.layers.Dense(300, activation='relu'),\n",
        "     keras.layers.Dense(300, activation='relu'),\n",
        "     keras.layers.Dense(10, activation='softmax')\n",
        "    ]\n",
        ")"
      ],
      "metadata": {
        "id": "6cMGYyvmukkP"
      },
      "execution_count": 6,
      "outputs": []
    },
    {
      "cell_type": "markdown",
      "source": [
        "## Compile\n",
        "\n",
        "We use ```sparse_categorical_crossentropy``` because the labels are provided as integers, with each integer corresponding to a class. I speculate that there is a layer of processing that converts the integers into one-hot vectors with the corresponding class selected to be evaluated with regular cross entropy. Recall that the regular cross entropy is given by\n",
        "\n",
        "$\n",
        "J(Θ) ∝ ∑\\limits_{i} ∑\\limits_{k} y_k^i log(\\hat{p}_k^i).\n",
        "$\n",
        "\n",
        "The cost function is used in optimizing but the accuracy metric is specified to get an overview of the models performance. "
      ],
      "metadata": {
        "id": "XSujh2q5ycPQ"
      }
    },
    {
      "cell_type": "code",
      "source": [
        "model.compile(\n",
        "    loss=\"sparse_categorical_crossentropy\",\n",
        "    optimizer=\"sgd\",\n",
        "    metrics=[\"accuracy\"]\n",
        ")"
      ],
      "metadata": {
        "id": "ZpO2Qp1Ey8L4"
      },
      "execution_count": 7,
      "outputs": []
    },
    {
      "cell_type": "markdown",
      "source": [
        "# Training and Evaluation"
      ],
      "metadata": {
        "id": "B5WEHEiBdxya"
      }
    },
    {
      "cell_type": "code",
      "source": [
        "model_training_history = model.fit(\n",
        "    x_train,\n",
        "    y_train,\n",
        "    epochs=40,\n",
        "    validation_data=(x_valid, y_valid)\n",
        ")"
      ],
      "metadata": {
        "id": "xENbLlGaday0",
        "outputId": "166564fd-eaa9-4fb0-860a-946ad676bac5",
        "colab": {
          "base_uri": "https://localhost:8080/"
        }
      },
      "execution_count": 8,
      "outputs": [
        {
          "output_type": "stream",
          "name": "stdout",
          "text": [
            "Epoch 1/40\n",
            "1719/1719 [==============================] - 11s 6ms/step - loss: 0.7271 - accuracy: 0.7629 - val_loss: 0.5446 - val_accuracy: 0.8122\n",
            "Epoch 2/40\n",
            "1719/1719 [==============================] - 7s 4ms/step - loss: 0.4919 - accuracy: 0.8274 - val_loss: 0.4403 - val_accuracy: 0.8522\n",
            "Epoch 3/40\n",
            "1719/1719 [==============================] - 7s 4ms/step - loss: 0.4476 - accuracy: 0.8423 - val_loss: 0.4202 - val_accuracy: 0.8592\n",
            "Epoch 4/40\n",
            "1719/1719 [==============================] - 7s 4ms/step - loss: 0.4195 - accuracy: 0.8542 - val_loss: 0.4071 - val_accuracy: 0.8602\n",
            "Epoch 5/40\n",
            "1719/1719 [==============================] - 7s 4ms/step - loss: 0.4001 - accuracy: 0.8596 - val_loss: 0.3882 - val_accuracy: 0.8670\n",
            "Epoch 6/40\n",
            "1719/1719 [==============================] - 7s 4ms/step - loss: 0.3825 - accuracy: 0.8633 - val_loss: 0.3783 - val_accuracy: 0.8714\n",
            "Epoch 7/40\n",
            "1719/1719 [==============================] - 7s 4ms/step - loss: 0.3699 - accuracy: 0.8688 - val_loss: 0.3741 - val_accuracy: 0.8640\n",
            "Epoch 8/40\n",
            "1719/1719 [==============================] - 7s 4ms/step - loss: 0.3560 - accuracy: 0.8736 - val_loss: 0.3636 - val_accuracy: 0.8724\n",
            "Epoch 9/40\n",
            "1719/1719 [==============================] - 7s 4ms/step - loss: 0.3453 - accuracy: 0.8771 - val_loss: 0.3660 - val_accuracy: 0.8706\n",
            "Epoch 10/40\n",
            "1719/1719 [==============================] - 7s 4ms/step - loss: 0.3363 - accuracy: 0.8803 - val_loss: 0.3437 - val_accuracy: 0.8824\n",
            "Epoch 11/40\n",
            "1719/1719 [==============================] - 8s 5ms/step - loss: 0.3275 - accuracy: 0.8831 - val_loss: 0.3365 - val_accuracy: 0.8830\n",
            "Epoch 12/40\n",
            "1719/1719 [==============================] - 7s 4ms/step - loss: 0.3188 - accuracy: 0.8865 - val_loss: 0.3383 - val_accuracy: 0.8836\n",
            "Epoch 13/40\n",
            "1719/1719 [==============================] - 7s 4ms/step - loss: 0.3126 - accuracy: 0.8865 - val_loss: 0.3417 - val_accuracy: 0.8802\n",
            "Epoch 14/40\n",
            "1719/1719 [==============================] - 7s 4ms/step - loss: 0.3054 - accuracy: 0.8901 - val_loss: 0.3307 - val_accuracy: 0.8824\n",
            "Epoch 15/40\n",
            "1719/1719 [==============================] - 8s 5ms/step - loss: 0.2970 - accuracy: 0.8932 - val_loss: 0.3250 - val_accuracy: 0.8864\n",
            "Epoch 16/40\n",
            "1719/1719 [==============================] - 7s 4ms/step - loss: 0.2917 - accuracy: 0.8949 - val_loss: 0.3285 - val_accuracy: 0.8844\n",
            "Epoch 17/40\n",
            "1719/1719 [==============================] - 7s 4ms/step - loss: 0.2856 - accuracy: 0.8972 - val_loss: 0.3212 - val_accuracy: 0.8856\n",
            "Epoch 18/40\n",
            "1719/1719 [==============================] - 7s 4ms/step - loss: 0.2809 - accuracy: 0.8993 - val_loss: 0.3222 - val_accuracy: 0.8860\n",
            "Epoch 19/40\n",
            "1719/1719 [==============================] - 7s 4ms/step - loss: 0.2752 - accuracy: 0.9007 - val_loss: 0.3036 - val_accuracy: 0.8904\n",
            "Epoch 20/40\n",
            "1719/1719 [==============================] - 7s 4ms/step - loss: 0.2699 - accuracy: 0.9030 - val_loss: 0.3151 - val_accuracy: 0.8886\n",
            "Epoch 21/40\n",
            "1719/1719 [==============================] - 7s 4ms/step - loss: 0.2650 - accuracy: 0.9044 - val_loss: 0.3127 - val_accuracy: 0.8894\n",
            "Epoch 22/40\n",
            "1719/1719 [==============================] - 7s 4ms/step - loss: 0.2601 - accuracy: 0.9064 - val_loss: 0.3265 - val_accuracy: 0.8862\n",
            "Epoch 23/40\n",
            "1719/1719 [==============================] - 8s 5ms/step - loss: 0.2556 - accuracy: 0.9078 - val_loss: 0.3093 - val_accuracy: 0.8916\n",
            "Epoch 24/40\n",
            "1719/1719 [==============================] - 7s 4ms/step - loss: 0.2516 - accuracy: 0.9083 - val_loss: 0.3093 - val_accuracy: 0.8872\n",
            "Epoch 25/40\n",
            "1719/1719 [==============================] - 7s 4ms/step - loss: 0.2480 - accuracy: 0.9105 - val_loss: 0.3142 - val_accuracy: 0.8878\n",
            "Epoch 26/40\n",
            "1719/1719 [==============================] - 7s 4ms/step - loss: 0.2432 - accuracy: 0.9116 - val_loss: 0.3044 - val_accuracy: 0.8864\n",
            "Epoch 27/40\n",
            "1719/1719 [==============================] - 7s 4ms/step - loss: 0.2391 - accuracy: 0.9142 - val_loss: 0.2990 - val_accuracy: 0.8930\n",
            "Epoch 28/40\n",
            "1719/1719 [==============================] - 7s 4ms/step - loss: 0.2346 - accuracy: 0.9153 - val_loss: 0.2950 - val_accuracy: 0.8938\n",
            "Epoch 29/40\n",
            "1719/1719 [==============================] - 7s 4ms/step - loss: 0.2310 - accuracy: 0.9175 - val_loss: 0.2967 - val_accuracy: 0.8936\n",
            "Epoch 30/40\n",
            "1719/1719 [==============================] - 7s 4ms/step - loss: 0.2264 - accuracy: 0.9187 - val_loss: 0.2957 - val_accuracy: 0.8936\n",
            "Epoch 31/40\n",
            "1719/1719 [==============================] - 7s 4ms/step - loss: 0.2244 - accuracy: 0.9193 - val_loss: 0.2918 - val_accuracy: 0.8972\n",
            "Epoch 32/40\n",
            "1719/1719 [==============================] - 7s 4ms/step - loss: 0.2202 - accuracy: 0.9206 - val_loss: 0.2962 - val_accuracy: 0.8950\n",
            "Epoch 33/40\n",
            "1719/1719 [==============================] - 7s 4ms/step - loss: 0.2169 - accuracy: 0.9224 - val_loss: 0.2972 - val_accuracy: 0.8942\n",
            "Epoch 34/40\n",
            "1719/1719 [==============================] - 7s 4ms/step - loss: 0.2129 - accuracy: 0.9235 - val_loss: 0.3005 - val_accuracy: 0.8898\n",
            "Epoch 35/40\n",
            "1719/1719 [==============================] - 8s 5ms/step - loss: 0.2097 - accuracy: 0.9246 - val_loss: 0.2892 - val_accuracy: 0.8978\n",
            "Epoch 36/40\n",
            "1719/1719 [==============================] - 8s 4ms/step - loss: 0.2054 - accuracy: 0.9261 - val_loss: 0.3033 - val_accuracy: 0.8910\n",
            "Epoch 37/40\n",
            "1719/1719 [==============================] - 7s 4ms/step - loss: 0.2023 - accuracy: 0.9276 - val_loss: 0.2821 - val_accuracy: 0.8990\n",
            "Epoch 38/40\n",
            "1719/1719 [==============================] - 7s 4ms/step - loss: 0.1997 - accuracy: 0.9287 - val_loss: 0.3159 - val_accuracy: 0.8832\n",
            "Epoch 39/40\n",
            "1719/1719 [==============================] - 7s 4ms/step - loss: 0.1974 - accuracy: 0.9297 - val_loss: 0.3025 - val_accuracy: 0.8904\n",
            "Epoch 40/40\n",
            "1719/1719 [==============================] - 7s 4ms/step - loss: 0.1941 - accuracy: 0.9306 - val_loss: 0.2886 - val_accuracy: 0.8982\n"
          ]
        }
      ]
    },
    {
      "cell_type": "markdown",
      "source": [
        "**History**\n",
        "The ```fit()``` method returns a ```History``` object containing training parameters. The .history property, in particular, is a dictionary of metrics during training. We'll plot them to see how "
      ],
      "metadata": {
        "id": "P3lRsknDCTpD"
      }
    },
    {
      "cell_type": "code",
      "source": [
        "model_training_history.history.keys()"
      ],
      "metadata": {
        "id": "jBOme8gP9jWB",
        "outputId": "3bbae2a0-51a1-40b4-b439-c7db65ea99d7",
        "colab": {
          "base_uri": "https://localhost:8080/"
        }
      },
      "execution_count": 9,
      "outputs": [
        {
          "output_type": "execute_result",
          "data": {
            "text/plain": [
              "dict_keys(['loss', 'accuracy', 'val_loss', 'val_accuracy'])"
            ]
          },
          "metadata": {},
          "execution_count": 9
        }
      ]
    },
    {
      "cell_type": "markdown",
      "source": [
        "We'll tabulate and plot the history metrics of our model. The validation and training curves are close to each other, so there isn't much overfitting going on. The validation set acts as a test set during training."
      ],
      "metadata": {
        "id": "aZkMyFfxo9NX"
      }
    },
    {
      "cell_type": "code",
      "source": [
        "model_training_metrics_pd = pd.DataFrame(model_training_history.history);\n",
        "model_training_metrics_pd.head()"
      ],
      "metadata": {
        "id": "3VjMfTWGDW3a",
        "outputId": "4cb203bd-d662-482e-c8e4-0b13f7b647c1",
        "colab": {
          "base_uri": "https://localhost:8080/",
          "height": 206
        }
      },
      "execution_count": 10,
      "outputs": [
        {
          "output_type": "execute_result",
          "data": {
            "text/plain": [
              "       loss  accuracy  val_loss  val_accuracy\n",
              "0  0.727056  0.762891  0.544592        0.8122\n",
              "1  0.491900  0.827418  0.440343        0.8522\n",
              "2  0.447589  0.842273  0.420169        0.8592\n",
              "3  0.419456  0.854164  0.407132        0.8602\n",
              "4  0.400119  0.859618  0.388175        0.8670"
            ],
            "text/html": [
              "\n",
              "  <div id=\"df-90375f35-9af4-4dd1-a4bb-320c474a3ee8\">\n",
              "    <div class=\"colab-df-container\">\n",
              "      <div>\n",
              "<style scoped>\n",
              "    .dataframe tbody tr th:only-of-type {\n",
              "        vertical-align: middle;\n",
              "    }\n",
              "\n",
              "    .dataframe tbody tr th {\n",
              "        vertical-align: top;\n",
              "    }\n",
              "\n",
              "    .dataframe thead th {\n",
              "        text-align: right;\n",
              "    }\n",
              "</style>\n",
              "<table border=\"1\" class=\"dataframe\">\n",
              "  <thead>\n",
              "    <tr style=\"text-align: right;\">\n",
              "      <th></th>\n",
              "      <th>loss</th>\n",
              "      <th>accuracy</th>\n",
              "      <th>val_loss</th>\n",
              "      <th>val_accuracy</th>\n",
              "    </tr>\n",
              "  </thead>\n",
              "  <tbody>\n",
              "    <tr>\n",
              "      <th>0</th>\n",
              "      <td>0.727056</td>\n",
              "      <td>0.762891</td>\n",
              "      <td>0.544592</td>\n",
              "      <td>0.8122</td>\n",
              "    </tr>\n",
              "    <tr>\n",
              "      <th>1</th>\n",
              "      <td>0.491900</td>\n",
              "      <td>0.827418</td>\n",
              "      <td>0.440343</td>\n",
              "      <td>0.8522</td>\n",
              "    </tr>\n",
              "    <tr>\n",
              "      <th>2</th>\n",
              "      <td>0.447589</td>\n",
              "      <td>0.842273</td>\n",
              "      <td>0.420169</td>\n",
              "      <td>0.8592</td>\n",
              "    </tr>\n",
              "    <tr>\n",
              "      <th>3</th>\n",
              "      <td>0.419456</td>\n",
              "      <td>0.854164</td>\n",
              "      <td>0.407132</td>\n",
              "      <td>0.8602</td>\n",
              "    </tr>\n",
              "    <tr>\n",
              "      <th>4</th>\n",
              "      <td>0.400119</td>\n",
              "      <td>0.859618</td>\n",
              "      <td>0.388175</td>\n",
              "      <td>0.8670</td>\n",
              "    </tr>\n",
              "  </tbody>\n",
              "</table>\n",
              "</div>\n",
              "      <button class=\"colab-df-convert\" onclick=\"convertToInteractive('df-90375f35-9af4-4dd1-a4bb-320c474a3ee8')\"\n",
              "              title=\"Convert this dataframe to an interactive table.\"\n",
              "              style=\"display:none;\">\n",
              "        \n",
              "  <svg xmlns=\"http://www.w3.org/2000/svg\" height=\"24px\"viewBox=\"0 0 24 24\"\n",
              "       width=\"24px\">\n",
              "    <path d=\"M0 0h24v24H0V0z\" fill=\"none\"/>\n",
              "    <path d=\"M18.56 5.44l.94 2.06.94-2.06 2.06-.94-2.06-.94-.94-2.06-.94 2.06-2.06.94zm-11 1L8.5 8.5l.94-2.06 2.06-.94-2.06-.94L8.5 2.5l-.94 2.06-2.06.94zm10 10l.94 2.06.94-2.06 2.06-.94-2.06-.94-.94-2.06-.94 2.06-2.06.94z\"/><path d=\"M17.41 7.96l-1.37-1.37c-.4-.4-.92-.59-1.43-.59-.52 0-1.04.2-1.43.59L10.3 9.45l-7.72 7.72c-.78.78-.78 2.05 0 2.83L4 21.41c.39.39.9.59 1.41.59.51 0 1.02-.2 1.41-.59l7.78-7.78 2.81-2.81c.8-.78.8-2.07 0-2.86zM5.41 20L4 18.59l7.72-7.72 1.47 1.35L5.41 20z\"/>\n",
              "  </svg>\n",
              "      </button>\n",
              "      \n",
              "  <style>\n",
              "    .colab-df-container {\n",
              "      display:flex;\n",
              "      flex-wrap:wrap;\n",
              "      gap: 12px;\n",
              "    }\n",
              "\n",
              "    .colab-df-convert {\n",
              "      background-color: #E8F0FE;\n",
              "      border: none;\n",
              "      border-radius: 50%;\n",
              "      cursor: pointer;\n",
              "      display: none;\n",
              "      fill: #1967D2;\n",
              "      height: 32px;\n",
              "      padding: 0 0 0 0;\n",
              "      width: 32px;\n",
              "    }\n",
              "\n",
              "    .colab-df-convert:hover {\n",
              "      background-color: #E2EBFA;\n",
              "      box-shadow: 0px 1px 2px rgba(60, 64, 67, 0.3), 0px 1px 3px 1px rgba(60, 64, 67, 0.15);\n",
              "      fill: #174EA6;\n",
              "    }\n",
              "\n",
              "    [theme=dark] .colab-df-convert {\n",
              "      background-color: #3B4455;\n",
              "      fill: #D2E3FC;\n",
              "    }\n",
              "\n",
              "    [theme=dark] .colab-df-convert:hover {\n",
              "      background-color: #434B5C;\n",
              "      box-shadow: 0px 1px 3px 1px rgba(0, 0, 0, 0.15);\n",
              "      filter: drop-shadow(0px 1px 2px rgba(0, 0, 0, 0.3));\n",
              "      fill: #FFFFFF;\n",
              "    }\n",
              "  </style>\n",
              "\n",
              "      <script>\n",
              "        const buttonEl =\n",
              "          document.querySelector('#df-90375f35-9af4-4dd1-a4bb-320c474a3ee8 button.colab-df-convert');\n",
              "        buttonEl.style.display =\n",
              "          google.colab.kernel.accessAllowed ? 'block' : 'none';\n",
              "\n",
              "        async function convertToInteractive(key) {\n",
              "          const element = document.querySelector('#df-90375f35-9af4-4dd1-a4bb-320c474a3ee8');\n",
              "          const dataTable =\n",
              "            await google.colab.kernel.invokeFunction('convertToInteractive',\n",
              "                                                     [key], {});\n",
              "          if (!dataTable) return;\n",
              "\n",
              "          const docLinkHtml = 'Like what you see? Visit the ' +\n",
              "            '<a target=\"_blank\" href=https://colab.research.google.com/notebooks/data_table.ipynb>data table notebook</a>'\n",
              "            + ' to learn more about interactive tables.';\n",
              "          element.innerHTML = '';\n",
              "          dataTable['output_type'] = 'display_data';\n",
              "          await google.colab.output.renderOutput(dataTable, element);\n",
              "          const docLink = document.createElement('div');\n",
              "          docLink.innerHTML = docLinkHtml;\n",
              "          element.appendChild(docLink);\n",
              "        }\n",
              "      </script>\n",
              "    </div>\n",
              "  </div>\n",
              "  "
            ]
          },
          "metadata": {},
          "execution_count": 10
        }
      ]
    },
    {
      "cell_type": "code",
      "source": [
        "model_training_metrics_pd.plot(figsize=(20,10))\n",
        "plt.legend(loc=\"lower left\", fontsize=14)\n",
        "plt.grid()"
      ],
      "metadata": {
        "id": "T928YKXADmje",
        "outputId": "8469bc4d-4bea-4e8b-d971-6f05b9c56631",
        "colab": {
          "base_uri": "https://localhost:8080/",
          "height": 592
        }
      },
      "execution_count": 11,
      "outputs": [
        {
          "output_type": "display_data",
          "data": {
            "text/plain": [
              "<Figure size 1440x720 with 1 Axes>"
            ],
            "image/png": "[encoded data removed]"
          },
          "metadata": {
            "needs_background": "light"
          }
        }
      ]
    },
    {
      "cell_type": "markdown",
      "source": [
        "## Evaluate\n",
        "\n",
        "Loss and accuracy are evaluated for the test set."
      ],
      "metadata": {
        "id": "SkhAdj3YsH8x"
      }
    },
    {
      "cell_type": "code",
      "source": [
        "evaluate_result = model.evaluate(x_test, y_test)"
      ],
      "metadata": {
        "id": "ohNU9B_ojTq-",
        "outputId": "4c5c4365-a0c3-4904-d7bb-744fbfafe738",
        "colab": {
          "base_uri": "https://localhost:8080/"
        }
      },
      "execution_count": 13,
      "outputs": [
        {
          "output_type": "stream",
          "name": "stdout",
          "text": [
            "313/313 [==============================] - 1s 3ms/step - loss: 67.9114 - accuracy: 0.8472\n"
          ]
        }
      ]
    },
    {
      "cell_type": "markdown",
      "source": [
        "# Comments\n",
        "\n",
        "At this point, we're not tuning hyperparameters and will settle with our results. This notebook gives a run at building a sequential model using Keras. To get a deeper understanding, Andrew Ng's Coursera ML course gives a mathematical treatment of neural networks. The neural network section there requires on write implement the forward prop and backprop in MATLAB."
      ],
      "metadata": {
        "id": "adLWi-IbtuOE"
      }
    }
  ]
}