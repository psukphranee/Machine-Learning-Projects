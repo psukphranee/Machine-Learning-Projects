{
  "nbformat": 4,
  "nbformat_minor": 0,
  "metadata": {
    "colab": {
      "name": "Fashion MNIST 2.ipynb",
      "provenance": [],
      "authorship_tag": "ABX9TyMddtppRqvPCiHr+2BcJ6ds",
      "include_colab_link": true
    },
    "kernelspec": {
      "name": "python3",
      "display_name": "Python 3"
    },
    "language_info": {
      "name": "python"
    }
  },
  "cells": [
    {
      "cell_type": "markdown",
      "metadata": {
        "id": "view-in-github",
        "colab_type": "text"
      },
      "source": [
        "<a href=\"https://colab.research.google.com/github/psukphranee/Machine-Learning-Projects/blob/master/Fashion_MNIST_2.ipynb\" target=\"_parent\"><img src=\"https://colab.research.google.com/assets/colab-badge.svg\" alt=\"Open In Colab\"/></a>"
      ]
    },
    {
      "cell_type": "code",
      "execution_count": null,
      "metadata": {
        "id": "71RXDuUsdpDZ"
      },
      "outputs": [],
      "source": [
        ""
      ]
    },
    {
      "cell_type": "markdown",
      "source": [
        "#Fashion MNIST\n",
        "\n",
        "## Introduction\n",
        "\n",
        "This dataset is the analog of the MNIST dataset. It conatins sample images of ten types of clothing articles. We'll build and train a neural network to categorize the clothing type. The neural network is a multi-layer perceptron. The term **perceptron** seems to be used ambiguously in different resources. I use the **perception** to mean a layer, which consists of **neurons** or **TLUs**. "
      ],
      "metadata": {
        "id": "bs5YIBKGdxjT"
      }
    },
    {
      "cell_type": "code",
      "source": [
        "import numpy as np\n",
        "import matplotlib.pyplot as plt\n",
        "import pandas as pd\n",
        "import tensorflow as tf\n",
        "from tensorflow import keras"
      ],
      "metadata": {
        "id": "DTT-nl-ejn1K"
      },
      "execution_count": 1,
      "outputs": []
    },
    {
      "cell_type": "markdown",
      "source": [
        "# Data\n",
        "\n",
        "We use the Keras API to load this built-in dataset. The load_data() method returns train and test sets already separated. There are 60,000 training samples and 10,000 testing samples. \n",
        "\n",
        "The samples are 28x28 grayscale images in the format of numpy arrays. Each entry is some pixel intensity from 0 to 255. The datatype is an 8-bit unsigned integer. Lables range from 0 to 9 according to the following:\n",
        "\n",
        "|      0      |    1    |     2    | 3     | 4    | 5      | 6     | 7       | 8   | 9          |\n",
        "|:-----------:|:-------:|:--------:|-------|------|--------|-------|---------|-----|------------|\n",
        "| T-shirt/top | Trouser | Pullover | Dress | Coat | Sandal | Shirt | Sneaker | Bag | Ankle Boot |"
      ],
      "metadata": {
        "id": "kczY8UMedxs7"
      }
    },
    {
      "cell_type": "code",
      "source": [
        "(x_train, y_train), (x_test, y_test) = keras.datasets.fashion_mnist.load_data();\n",
        "assert x_train.shape == (60000, 28, 28);\n",
        "assert y_train.shape == (60000,);\n",
        "assert x_test.shape == (10000, 28, 28);\n",
        "assert y_test.shape == (10000,);"
      ],
      "metadata": {
        "colab": {
          "base_uri": "https://localhost:8080/"
        },
        "id": "72FmCGI_gt88",
        "outputId": "5bf2da7f-d7c5-4fef-f03f-460b2405bd31"
      },
      "execution_count": 2,
      "outputs": [
        {
          "output_type": "stream",
          "name": "stdout",
          "text": [
            "Downloading data from https://storage.googleapis.com/tensorflow/tf-keras-datasets/train-labels-idx1-ubyte.gz\n",
            "32768/29515 [=================================] - 0s 0us/step\n",
            "40960/29515 [=========================================] - 0s 0us/step\n",
            "Downloading data from https://storage.googleapis.com/tensorflow/tf-keras-datasets/train-images-idx3-ubyte.gz\n",
            "26427392/26421880 [==============================] - 0s 0us/step\n",
            "26435584/26421880 [==============================] - 0s 0us/step\n",
            "Downloading data from https://storage.googleapis.com/tensorflow/tf-keras-datasets/t10k-labels-idx1-ubyte.gz\n",
            "16384/5148 [===============================================================================================] - 0s 0us/step\n",
            "Downloading data from https://storage.googleapis.com/tensorflow/tf-keras-datasets/t10k-images-idx3-ubyte.gz\n",
            "4423680/4422102 [==============================] - 0s 0us/step\n",
            "4431872/4422102 [==============================] - 0s 0us/step\n"
          ]
        }
      ]
    },
    {
      "cell_type": "markdown",
      "source": [
        "Labels are numeric so we'll create a list of their names. Also, we normalize the features for better optimization."
      ],
      "metadata": {
        "id": "V8RBV5T6xDx-"
      }
    },
    {
      "cell_type": "code",
      "source": [
        "y_labels = ['T-shirt/Top','Trouser','Pullover','Dress','Coat','Sandal','Shirt','Sneaker','Bag','Ankle Boot'];\n",
        "x_train = x_train/255.0;"
      ],
      "metadata": {
        "id": "B_Kqragdqvkh"
      },
      "execution_count": 26,
      "outputs": []
    },
    {
      "cell_type": "code",
      "source": [
        "fig, ax = plt.subplots(1,3, figsize=(25,5))\n",
        "ax[0].imshow(x_train[0], cmap='gray')\n",
        "ax[0].set_title(y_labels[y_train[0]])\n",
        "ax[1].imshow(x_train[1], cmap='gray')\n",
        "ax[1].set_title(y_labels[y_train[1]])\n",
        "ax[2].imshow(x_train[2], cmap='gray')\n",
        "ax[2].set_title(y_labels[y_train[2]])\n",
        "plt.show()\n"
      ],
      "metadata": {
        "colab": {
          "base_uri": "https://localhost:8080/",
          "height": 336
        },
        "id": "DfNnBePYk1mw",
        "outputId": "5c2d002b-e8a2-447d-df02-4be759a1f946"
      },
      "execution_count": 27,
      "outputs": [
        {
          "output_type": "display_data",
          "data": {
            "text/plain": [
              "<Figure size 1800x360 with 3 Axes>"
            ],
            "image/png": "[encoded data removed]"
          },
          "metadata": {
            "needs_background": "light"
          }
        }
      ]
    },
    {
      "cell_type": "markdown",
      "source": [
        "# Model\n",
        "\n",
        "Our model will be a multi-layer perception neural network. It will consist of  one input layer, two hidden layers, and one output layer. Each of the hidden layers are dense, meaning each neuron is connected to each of the previous layers neurons.\n",
        "\n",
        "The ReLU activation function is default for many neural networks, according to sources. ReLU is a piecewise linear function that zeros out negative output and leaves positive outputs alone. One of the benefits is that it takes care of the vanishing gradient issue for backpropagation. For our model, I don't think it's noticeable since we only have two layers.\n",
        "\n",
        "The our "
      ],
      "metadata": {
        "id": "BZVbsojhdxvi"
      }
    },
    {
      "cell_type": "code",
      "source": [
        "model = keras.models.Sequential(\n",
        "    [\n",
        "     keras.layers.Flatten(input_shape=[28,28]),\n",
        "     keras.layers.Dense(300, activation='relu'),\n",
        "     keras.layers.Dense(300, activation='relu'),\n",
        "     keras.layers.Dense(10, activation='softmax')\n",
        "    ]\n",
        ")"
      ],
      "metadata": {
        "id": "6cMGYyvmukkP"
      },
      "execution_count": 30,
      "outputs": []
    },
    {
      "cell_type": "code",
      "source": [
        ""
      ],
      "metadata": {
        "id": "Eu01yAj20_UR"
      },
      "execution_count": null,
      "outputs": []
    },
    {
      "cell_type": "markdown",
      "source": [
        ""
      ],
      "metadata": {
        "id": "dbhZXsKMxYOK"
      }
    },
    {
      "cell_type": "markdown",
      "source": [
        "# Training and Evaluation"
      ],
      "metadata": {
        "id": "B5WEHEiBdxya"
      }
    },
    {
      "cell_type": "code",
      "source": [
        ""
      ],
      "metadata": {
        "id": "K7NMx8kiecvC"
      },
      "execution_count": null,
      "outputs": []
    }
  ]
}