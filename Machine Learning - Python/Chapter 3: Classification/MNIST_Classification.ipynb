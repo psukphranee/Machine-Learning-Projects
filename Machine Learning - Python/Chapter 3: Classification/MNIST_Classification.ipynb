{
  "nbformat": 4,
  "nbformat_minor": 0,
  "metadata": {
    "colab": {
      "name": "MNIST Classification.ipynb",
      "provenance": [],
      "authorship_tag": "ABX9TyM4+uCx05WedDXfWLsDoVRo",
      "include_colab_link": true
    },
    "kernelspec": {
      "name": "python3",
      "display_name": "Python 3"
    },
    "language_info": {
      "name": "python"
    }
  },
  "cells": [
    {
      "cell_type": "markdown",
      "metadata": {
        "id": "view-in-github",
        "colab_type": "text"
      },
      "source": [
        "<a href=\"https://colab.research.google.com/github/psukphranee/Machine-Learning-Projects/blob/master/Hands-On%20Machine%20Learning/Chapter%203%3A%20Classification/MNIST_Classification.ipynb\" target=\"_parent\"><img src=\"https://colab.research.google.com/assets/colab-badge.svg\" alt=\"Open In Colab\"/></a>"
      ]
    },
    {
      "cell_type": "markdown",
      "metadata": {
        "id": "J6yrr1_2POha"
      },
      "source": [
        "# MNIST Classification"
      ]
    },
    {
      "cell_type": "markdown",
      "metadata": {
        "id": "uml62nRoeflx"
      },
      "source": [
        "# Get data and look at a sample"
      ]
    },
    {
      "cell_type": "code",
      "metadata": {
        "id": "s4wP-QXyPDKM"
      },
      "source": [
        "from sklearn.datasets import fetch_openml\n",
        "\n",
        "mnist = fetch_openml('mnist_784')"
      ],
      "execution_count": 1,
      "outputs": []
    },
    {
      "cell_type": "code",
      "metadata": {
        "colab": {
          "base_uri": "https://localhost:8080/"
        },
        "id": "UIuJLeoOPQ3q",
        "outputId": "c27aec15-57f9-47fe-f3ce-d33d7fcd2fa5"
      },
      "source": [
        "mnist.keys()"
      ],
      "execution_count": 2,
      "outputs": [
        {
          "output_type": "execute_result",
          "data": {
            "text/plain": [
              "dict_keys(['data', 'target', 'frame', 'feature_names', 'target_names', 'DESCR', 'details', 'categories', 'url'])"
            ]
          },
          "metadata": {},
          "execution_count": 2
        }
      ]
    },
    {
      "cell_type": "code",
      "metadata": {
        "id": "DlyOKF-zRIWe"
      },
      "source": [
        "X, y = mnist.data, mnist.target\n"
      ],
      "execution_count": 3,
      "outputs": []
    },
    {
      "cell_type": "code",
      "metadata": {
        "id": "GyTujUBNbeUb"
      },
      "source": [
        "import numpy as np\n",
        "\n",
        "y = y.astype(np.uint8)"
      ],
      "execution_count": 4,
      "outputs": []
    },
    {
      "cell_type": "code",
      "metadata": {
        "id": "yfIXqmGeRgZE"
      },
      "source": [
        "X_train, y_train, X_test, y_test = X[:60000], y[:60000], X[60000:], y[60000:]   "
      ],
      "execution_count": 5,
      "outputs": []
    },
    {
      "cell_type": "code",
      "metadata": {
        "id": "7QRm9yuJRkVU"
      },
      "source": [
        "some_sample = X_train[0]\n",
        "some_sample_img = some_sample.reshape(28,28);"
      ],
      "execution_count": 6,
      "outputs": []
    },
    {
      "cell_type": "code",
      "metadata": {
        "colab": {
          "base_uri": "https://localhost:8080/",
          "height": 248
        },
        "id": "2YgDlrisSa4s",
        "outputId": "3269a374-5c1c-442e-c2a4-aa05c4c3f311"
      },
      "source": [
        "import matplotlib.pyplot as plt\n",
        "\n",
        "plt.imshow(some_sample_img, cmap='binary')\n",
        "plt.axis('off')\n",
        "plt.show()"
      ],
      "execution_count": 7,
      "outputs": [
        {
          "output_type": "display_data",
          "data": {
            "image/png": "[encoded data removed]",
            "text/plain": [
              "<Figure size 432x288 with 1 Axes>"
            ]
          },
          "metadata": {
            "needs_background": "light"
          }
        }
      ]
    },
    {
      "cell_type": "code",
      "metadata": {
        "colab": {
          "base_uri": "https://localhost:8080/"
        },
        "id": "Js5WRVhBTB-D",
        "outputId": "2bcec0d3-b94c-4f65-d748-d0d001502c8c"
      },
      "source": [
        "y[5]"
      ],
      "execution_count": 8,
      "outputs": [
        {
          "output_type": "execute_result",
          "data": {
            "text/plain": [
              "2"
            ]
          },
          "metadata": {},
          "execution_count": 8
        }
      ]
    },
    {
      "cell_type": "markdown",
      "metadata": {
        "id": "7ZS2NdouedMA"
      },
      "source": [
        "## Train a binary classifier: 5 vs non-5"
      ]
    },
    {
      "cell_type": "code",
      "metadata": {
        "id": "ADaTXp-YerJA"
      },
      "source": [
        "from sklearn.linear_model import SGDClassifier\n",
        "\n",
        "sgd = SGDClassifier(random_state=42)"
      ],
      "execution_count": 9,
      "outputs": []
    },
    {
      "cell_type": "code",
      "metadata": {
        "id": "3Zo6pMGoe4tG"
      },
      "source": [
        "y_train_5 = (y_train==5)\n",
        "y_test_5 = (y_test==5)"
      ],
      "execution_count": 10,
      "outputs": []
    },
    {
      "cell_type": "code",
      "metadata": {
        "id": "jEHqV4ikGgLh",
        "outputId": "4dcdb2dc-5d16-44b9-d130-d813cb316828",
        "colab": {
          "base_uri": "https://localhost:8080/"
        }
      },
      "source": [
        "np.unique(y_train)"
      ],
      "execution_count": 11,
      "outputs": [
        {
          "output_type": "execute_result",
          "data": {
            "text/plain": [
              "array([0, 1, 2, 3, 4, 5, 6, 7, 8, 9], dtype=uint8)"
            ]
          },
          "metadata": {},
          "execution_count": 11
        }
      ]
    },
    {
      "cell_type": "code",
      "metadata": {
        "colab": {
          "base_uri": "https://localhost:8080/"
        },
        "id": "alP--Y9FfCm-",
        "outputId": "ce18a936-71ab-4a63-d8d9-7eac2cee4d0c"
      },
      "source": [
        "y_train_5.shape\n",
        "sum(y_train_5)"
      ],
      "execution_count": 12,
      "outputs": [
        {
          "output_type": "execute_result",
          "data": {
            "text/plain": [
              "5421"
            ]
          },
          "metadata": {},
          "execution_count": 12
        }
      ]
    },
    {
      "cell_type": "code",
      "metadata": {
        "colab": {
          "base_uri": "https://localhost:8080/"
        },
        "id": "DLM9FgFxgFpc",
        "outputId": "a48084bd-5e61-4d07-c3c2-881e465ad33b"
      },
      "source": [
        "sgd.fit(X_train, y_train_5)"
      ],
      "execution_count": 13,
      "outputs": [
        {
          "output_type": "execute_result",
          "data": {
            "text/plain": [
              "SGDClassifier(alpha=0.0001, average=False, class_weight=None,\n",
              "              early_stopping=False, epsilon=0.1, eta0=0.0, fit_intercept=True,\n",
              "              l1_ratio=0.15, learning_rate='optimal', loss='hinge',\n",
              "              max_iter=1000, n_iter_no_change=5, n_jobs=None, penalty='l2',\n",
              "              power_t=0.5, random_state=42, shuffle=True, tol=0.001,\n",
              "              validation_fraction=0.1, verbose=0, warm_start=False)"
            ]
          },
          "metadata": {},
          "execution_count": 13
        }
      ]
    },
    {
      "cell_type": "code",
      "metadata": {
        "colab": {
          "base_uri": "https://localhost:8080/"
        },
        "id": "gSadQpV2gcgH",
        "outputId": "a134c92e-795a-4cb5-bd46-227d87a87740"
      },
      "source": [
        "sgd.predict([some_sample])"
      ],
      "execution_count": 14,
      "outputs": [
        {
          "output_type": "execute_result",
          "data": {
            "text/plain": [
              "array([ True])"
            ]
          },
          "metadata": {},
          "execution_count": 14
        }
      ]
    },
    {
      "cell_type": "code",
      "metadata": {
        "id": "8dW9p1Fvgm2d"
      },
      "source": [
        "from sklearn.model_selection import cross_val_predict\n",
        "\n",
        "y_train_predict = cross_val_predict(sgd, X_train, y_train_5, cv=3)"
      ],
      "execution_count": 15,
      "outputs": []
    },
    {
      "cell_type": "code",
      "metadata": {
        "colab": {
          "base_uri": "https://localhost:8080/"
        },
        "id": "TUyLupHmoCJn",
        "outputId": "bfe5b937-c96f-47e6-fb97-868ef295d97e"
      },
      "source": [
        "y_train_predict.shape"
      ],
      "execution_count": 16,
      "outputs": [
        {
          "output_type": "execute_result",
          "data": {
            "text/plain": [
              "(60000,)"
            ]
          },
          "metadata": {},
          "execution_count": 16
        }
      ]
    },
    {
      "cell_type": "code",
      "metadata": {
        "colab": {
          "base_uri": "https://localhost:8080/"
        },
        "id": "BoAdgv4vob4q",
        "outputId": "72cb7b0a-16ac-44db-d7ea-d0c9116d25ff"
      },
      "source": [
        "from sklearn.metrics import confusion_matrix\n",
        "\n",
        "confusion_matrix(y_train_5, y_train_predict)"
      ],
      "execution_count": 17,
      "outputs": [
        {
          "output_type": "execute_result",
          "data": {
            "text/plain": [
              "array([[53892,   687],\n",
              "       [ 1891,  3530]])"
            ]
          },
          "metadata": {},
          "execution_count": 17
        }
      ]
    },
    {
      "cell_type": "code",
      "metadata": {
        "colab": {
          "base_uri": "https://localhost:8080/"
        },
        "id": "ZSxlFTX4ow_k",
        "outputId": "68f5a1f6-a2fb-44e7-81fd-189f73a8c6ae"
      },
      "source": [
        "confusion_matrix(y_train_5, y_train_5)"
      ],
      "execution_count": 18,
      "outputs": [
        {
          "output_type": "execute_result",
          "data": {
            "text/plain": [
              "array([[54579,     0],\n",
              "       [    0,  5421]])"
            ]
          },
          "metadata": {},
          "execution_count": 18
        }
      ]
    },
    {
      "cell_type": "code",
      "metadata": {
        "id": "7w3EVKQJLmYt"
      },
      "source": [
        "y_scores = cross_val_predict(sgd, X_train, y_train_5, cv=3, method='decision_function')"
      ],
      "execution_count": 19,
      "outputs": []
    },
    {
      "cell_type": "code",
      "metadata": {
        "id": "VJYuhAosIfXs"
      },
      "source": [
        "from sklearn.metrics import precision_recall_curve\n",
        "\n",
        "precision, recall, thresholds = precision_recall_curve(y_train_5, y_scores)\n"
      ],
      "execution_count": 20,
      "outputs": []
    },
    {
      "cell_type": "code",
      "metadata": {
        "id": "yHOeebiQK9J6",
        "outputId": "483c8b48-c029-4ff1-a0da-00d22c850bd1",
        "colab": {
          "base_uri": "https://localhost:8080/",
          "height": 343
        }
      },
      "source": [
        "def plot_precision_recall(precision, recall, thresholds):\n",
        "  plt.plot(thresholds, precision[:-1], 'b--', label=\"Precision\")\n",
        "  plt.plot(thresholds, recall[:-1], 'g-', label=\"Recall\")\n",
        "  plt.legend(loc=\"center right\", fontsize=16) # Not shown in the book\n",
        "  plt.xlabel(\"Threshold\", fontsize=16)        # Not shown\n",
        "  plt.grid(True)                              # Not shown\n",
        "  plt.axis([-50000, 50000, 0, 1])\n",
        "\n",
        "plt.figure(figsize=(9,5))\n",
        "plot_precision_recall(precision, recall, thresholds)\n",
        "\n",
        "\n",
        "recall_90 = recall[np.argmax(precision >= .9)] #threshold value where precision first >= .9\n",
        "threshold_90 = thresholds[np.argmax(precision >= .9)] #threshold value where precision first >= .9\n",
        "\n",
        "#plot 90pct markers\n",
        "plt.plot([threshold_90, threshold_90], [recall_90, 0.9], 'ro')\n",
        "\n",
        "plt.plot([threshold_90, threshold_90], [0., 0.9], \"r:\")\n",
        "plt.plot([-50000, threshold_90], [0.9, 0.9], \"r:\")\n",
        "plt.plot([-50000, threshold_90], [recall_90, recall_90], \"r:\")\n",
        "\n",
        "plt.show()"
      ],
      "execution_count": 42,
      "outputs": [
        {
          "output_type": "display_data",
          "data": {
            "image/png": "[encoded data removed]",
            "text/plain": [
              "<Figure size 648x360 with 1 Axes>"
            ]
          },
          "metadata": {
            "needs_background": "light"
          }
        }
      ]
    },
    {
      "cell_type": "code",
      "metadata": {
        "id": "sCHId27DLSi-",
        "outputId": "f35b7b5e-ab00-41a4-9f01-19f083444c4c",
        "colab": {
          "base_uri": "https://localhost:8080/"
        }
      },
      "source": [
        "recall_90"
      ],
      "execution_count": 39,
      "outputs": [
        {
          "output_type": "execute_result",
          "data": {
            "text/plain": [
              "0.4799852425751706"
            ]
          },
          "metadata": {},
          "execution_count": 39
        }
      ]
    },
    {
      "cell_type": "code",
      "metadata": {
        "id": "pbM49AKxPhyd",
        "outputId": "5191a660-b825-4959-986a-7827f9bcf6c2",
        "colab": {
          "base_uri": "https://localhost:8080/"
        }
      },
      "source": [
        "np.argmax(precision >= .9)"
      ],
      "execution_count": 23,
      "outputs": [
        {
          "output_type": "execute_result",
          "data": {
            "text/plain": [
              "57075"
            ]
          },
          "metadata": {},
          "execution_count": 23
        }
      ]
    },
    {
      "cell_type": "code",
      "metadata": {
        "id": "ocxOKsguUfq8"
      },
      "source": [
        ""
      ],
      "execution_count": 23,
      "outputs": []
    }
  ]
}