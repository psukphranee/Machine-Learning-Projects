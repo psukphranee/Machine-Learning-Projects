{
  "nbformat": 4,
  "nbformat_minor": 0,
  "metadata": {
    "colab": {
      "name": "Fashion MNIST.ipynb",
      "provenance": [],
      "authorship_tag": "ABX9TyNJ71doCJmgR/JxUU3ho9NJ",
      "include_colab_link": true
    },
    "kernelspec": {
      "name": "python3",
      "display_name": "Python 3"
    },
    "language_info": {
      "name": "python"
    }
  },
  "cells": [
    {
      "cell_type": "markdown",
      "metadata": {
        "id": "view-in-github",
        "colab_type": "text"
      },
      "source": [
        "<a href=\"https://colab.research.google.com/github/psukphranee/Machine-Learning-Projects/blob/master/Fashion_MNIST.ipynb\" target=\"_parent\"><img src=\"https://colab.research.google.com/assets/colab-badge.svg\" alt=\"Open In Colab\"/></a>"
      ]
    },
    {
      "cell_type": "markdown",
      "source": [
        "#Fashion MNIST\n",
        "\n",
        "Fashion MNIST. MNIST analog for neural networks. Instead of handwritten digits, we have grayscale images of fashion articles. The data are 28x28 pixel intensities ranging from 0 to 255 (ie 8 bits). Labels are integer entries 0-9 given by the table:\n",
        "\n",
        "0.\tT-shirt/top\n",
        "1.\tTrouser\n",
        "2.\tPullover\n",
        "3.\tDress\n",
        "4.\tCoat\n",
        "5.\tSandal\n",
        "6.\tShirt\n",
        "7.\tSneaker\n",
        "8.\tBag\n",
        "9.\tAnkle boot"
      ],
      "metadata": {
        "id": "5AZKMuwWGDBh"
      }
    },
    {
      "cell_type": "code",
      "execution_count": 17,
      "metadata": {
        "id": "vLHw-KTDCLq-"
      },
      "outputs": [],
      "source": [
        "import numpy as np\n",
        "import tensorflow as tf\n",
        "from tensorflow import keras\n",
        "import pandas as pd\n",
        "import matplotlib.pyplot as plt"
      ]
    },
    {
      "cell_type": "code",
      "source": [
        "(x_train, y_train), (x_test, y_test) = keras.datasets.fashion_mnist.load_data();\n",
        "assert x_train.shape == (60000, 28, 28)\n",
        "assert x_test.shape == (10000, 28, 28)\n",
        "assert y_train.shape == (60000,)\n",
        "assert y_test.shape == (10000,)"
      ],
      "metadata": {
        "id": "Rm1-NDR-HkFg"
      },
      "execution_count": 18,
      "outputs": []
    },
    {
      "cell_type": "code",
      "source": [
        "plt.figure(figsize=(5,5))\n",
        "plt.imshow(x_train[0])\n",
        "plt.title(y_train[0])\n",
        "plt.show()"
      ],
      "metadata": {
        "colab": {
          "base_uri": "https://localhost:8080/",
          "height": 336
        },
        "id": "rQOsLuMFLJE-",
        "outputId": "b407ca4f-0316-4d2c-8a6d-e3bdd9d6e009"
      },
      "execution_count": 19,
      "outputs": [
        {
          "output_type": "display_data",
          "data": {
            "text/plain": [
              "<Figure size 360x360 with 1 Axes>"
            ],
            "image/png": "[encoded data removed]"
          },
          "metadata": {
            "needs_background": "light"
          }
        }
      ]
    },
    {
      "cell_type": "markdown",
      "source": [
        "The data are already split into training and testing sets. We'll take the first 5000 samples from the training set to be the validation set. We also normalize the features since we are using SGD to optimize. "
      ],
      "metadata": {
        "id": "s4U5GhZDJeGp"
      }
    },
    {
      "cell_type": "code",
      "source": [
        "x_train = x_train/255.0\n",
        "x_valid, x_train = x_train[:5000], x_train[5000:]\n",
        "y_valid, y_train = y_train[:5000], y_train[5000:]"
      ],
      "metadata": {
        "id": "D711qG7OJT_i"
      },
      "execution_count": 20,
      "outputs": []
    },
    {
      "cell_type": "code",
      "source": [
        "#Build model\n",
        "\n",
        "model = keras.models.Sequential(\n",
        "    [\n",
        "     keras.layers.Flatten(input_shape=[28,28]),\n",
        "     keras.layers.Dense(300, activation='relu'),\n",
        "     keras.layers.Dense(300, activation='relu'),\n",
        "     keras.layers.Dense(10, activation='softmax')\n",
        "    ]\n",
        ")"
      ],
      "metadata": {
        "id": "CRwOZxcTNCnt"
      },
      "execution_count": 21,
      "outputs": []
    },
    {
      "cell_type": "code",
      "source": [
        "model.summary()"
      ],
      "metadata": {
        "colab": {
          "base_uri": "https://localhost:8080/"
        },
        "id": "Ub8nNhbRRCjw",
        "outputId": "f6984d00-283e-4a52-eb4f-8191555562c6"
      },
      "execution_count": 22,
      "outputs": [
        {
          "output_type": "stream",
          "name": "stdout",
          "text": [
            "Model: \"sequential_1\"\n",
            "_________________________________________________________________\n",
            " Layer (type)                Output Shape              Param #   \n",
            "=================================================================\n",
            " flatten_1 (Flatten)         (None, 784)               0         \n",
            "                                                                 \n",
            " dense_3 (Dense)             (None, 300)               235500    \n",
            "                                                                 \n",
            " dense_4 (Dense)             (None, 300)               90300     \n",
            "                                                                 \n",
            " dense_5 (Dense)             (None, 10)                3010      \n",
            "                                                                 \n",
            "=================================================================\n",
            "Total params: 328,810\n",
            "Trainable params: 328,810\n",
            "Non-trainable params: 0\n",
            "_________________________________________________________________\n"
          ]
        }
      ]
    },
    {
      "cell_type": "code",
      "source": [
        "hidden1 = model.layers[1]\n",
        "hidden1"
      ],
      "metadata": {
        "colab": {
          "base_uri": "https://localhost:8080/"
        },
        "id": "CSn-9a7PSKmL",
        "outputId": "f738440b-2137-408d-84ee-6e85965aed6f"
      },
      "execution_count": 23,
      "outputs": [
        {
          "output_type": "execute_result",
          "data": {
            "text/plain": [
              "<keras.layers.core.dense.Dense at 0x7f989c512850>"
            ]
          },
          "metadata": {},
          "execution_count": 23
        }
      ]
    },
    {
      "cell_type": "code",
      "source": [
        "h1_weights = hidden1.get_weights()"
      ],
      "metadata": {
        "id": "-zO6JqCJUtD2"
      },
      "execution_count": 24,
      "outputs": []
    },
    {
      "cell_type": "code",
      "source": [
        "len(h1_weights)"
      ],
      "metadata": {
        "colab": {
          "base_uri": "https://localhost:8080/"
        },
        "id": "ITeMWQz-VKO9",
        "outputId": "9c7e11d7-f6d1-4e48-aa1c-75181fa1b760"
      },
      "execution_count": 25,
      "outputs": [
        {
          "output_type": "execute_result",
          "data": {
            "text/plain": [
              "2"
            ]
          },
          "metadata": {},
          "execution_count": 25
        }
      ]
    },
    {
      "cell_type": "code",
      "source": [
        "h1_weights[0].shape"
      ],
      "metadata": {
        "colab": {
          "base_uri": "https://localhost:8080/"
        },
        "id": "z0CrlJTfVcfj",
        "outputId": "c1b22042-3b3a-4162-cd4c-41e1f47ddca7"
      },
      "execution_count": 26,
      "outputs": [
        {
          "output_type": "execute_result",
          "data": {
            "text/plain": [
              "(784, 300)"
            ]
          },
          "metadata": {},
          "execution_count": 26
        }
      ]
    },
    {
      "cell_type": "code",
      "source": [
        "h1_weights[1].shape"
      ],
      "metadata": {
        "colab": {
          "base_uri": "https://localhost:8080/"
        },
        "id": "g-aLJZHmWHza",
        "outputId": "41b36432-5770-44eb-8eec-5b3922b0bfd9"
      },
      "execution_count": 27,
      "outputs": [
        {
          "output_type": "execute_result",
          "data": {
            "text/plain": [
              "(300,)"
            ]
          },
          "metadata": {},
          "execution_count": 27
        }
      ]
    },
    {
      "cell_type": "code",
      "source": [
        "#Compile model \n",
        "\n",
        "model.compile(\n",
        "    loss=\"sparse_categorical_crossentropy\",\n",
        "    optimizer=\"SGD\",\n",
        "    metrics=[\"accuracy\"]\n",
        ")"
      ],
      "metadata": {
        "id": "8d51i-AMWLtW"
      },
      "execution_count": 28,
      "outputs": []
    },
    {
      "cell_type": "code",
      "source": [
        "history = model.fit(\n",
        "    x=x_train,\n",
        "    y=y_train,\n",
        "  validation_data=(x_valid, y_valid),\n",
        "  epochs=30\n",
        ")"
      ],
      "metadata": {
        "id": "2u33T9AxcH1I",
        "outputId": "7d041802-cd53-45e8-d29d-6631975704df",
        "colab": {
          "base_uri": "https://localhost:8080/"
        }
      },
      "execution_count": 29,
      "outputs": [
        {
          "output_type": "stream",
          "name": "stdout",
          "text": [
            "Epoch 1/30\n",
            "1719/1719 [==============================] - 12s 7ms/step - loss: 0.7307 - accuracy: 0.7580 - val_loss: 0.5460 - val_accuracy: 0.8128\n",
            "Epoch 2/30\n",
            "1719/1719 [==============================] - 8s 5ms/step - loss: 0.4967 - accuracy: 0.8267 - val_loss: 0.4636 - val_accuracy: 0.8406\n",
            "Epoch 3/30\n",
            "1719/1719 [==============================] - 8s 5ms/step - loss: 0.4480 - accuracy: 0.8431 - val_loss: 0.4359 - val_accuracy: 0.8480\n",
            "Epoch 4/30\n",
            "1719/1719 [==============================] - 8s 5ms/step - loss: 0.4181 - accuracy: 0.8526 - val_loss: 0.4296 - val_accuracy: 0.8492\n",
            "Epoch 5/30\n",
            "1719/1719 [==============================] - 8s 5ms/step - loss: 0.3981 - accuracy: 0.8610 - val_loss: 0.3819 - val_accuracy: 0.8718\n",
            "Epoch 6/30\n",
            "1719/1719 [==============================] - 8s 5ms/step - loss: 0.3828 - accuracy: 0.8639 - val_loss: 0.3798 - val_accuracy: 0.8640\n",
            "Epoch 7/30\n",
            "1719/1719 [==============================] - 8s 5ms/step - loss: 0.3691 - accuracy: 0.8693 - val_loss: 0.3641 - val_accuracy: 0.8744\n",
            "Epoch 8/30\n",
            "1719/1719 [==============================] - 8s 5ms/step - loss: 0.3575 - accuracy: 0.8735 - val_loss: 0.3825 - val_accuracy: 0.8654\n",
            "Epoch 9/30\n",
            "1719/1719 [==============================] - 8s 4ms/step - loss: 0.3468 - accuracy: 0.8768 - val_loss: 0.3535 - val_accuracy: 0.8778\n",
            "Epoch 10/30\n",
            "1719/1719 [==============================] - 8s 5ms/step - loss: 0.3374 - accuracy: 0.8796 - val_loss: 0.3438 - val_accuracy: 0.8818\n",
            "Epoch 11/30\n",
            "1719/1719 [==============================] - 8s 5ms/step - loss: 0.3296 - accuracy: 0.8822 - val_loss: 0.3359 - val_accuracy: 0.8816\n",
            "Epoch 12/30\n",
            "1719/1719 [==============================] - 9s 5ms/step - loss: 0.3206 - accuracy: 0.8853 - val_loss: 0.3322 - val_accuracy: 0.8808\n",
            "Epoch 13/30\n",
            "1719/1719 [==============================] - 8s 5ms/step - loss: 0.3133 - accuracy: 0.8886 - val_loss: 0.3271 - val_accuracy: 0.8798\n",
            "Epoch 14/30\n",
            "1719/1719 [==============================] - 8s 5ms/step - loss: 0.3069 - accuracy: 0.8906 - val_loss: 0.3228 - val_accuracy: 0.8844\n",
            "Epoch 15/30\n",
            "1719/1719 [==============================] - 8s 5ms/step - loss: 0.3000 - accuracy: 0.8933 - val_loss: 0.3224 - val_accuracy: 0.8836\n",
            "Epoch 16/30\n",
            "1719/1719 [==============================] - 7s 4ms/step - loss: 0.2941 - accuracy: 0.8937 - val_loss: 0.3301 - val_accuracy: 0.8800\n",
            "Epoch 17/30\n",
            "1719/1719 [==============================] - 7s 4ms/step - loss: 0.2878 - accuracy: 0.8961 - val_loss: 0.3237 - val_accuracy: 0.8848\n",
            "Epoch 18/30\n",
            "1719/1719 [==============================] - 7s 4ms/step - loss: 0.2819 - accuracy: 0.8982 - val_loss: 0.3134 - val_accuracy: 0.8882\n",
            "Epoch 19/30\n",
            "1719/1719 [==============================] - 8s 4ms/step - loss: 0.2775 - accuracy: 0.8994 - val_loss: 0.3240 - val_accuracy: 0.8828\n",
            "Epoch 20/30\n",
            "1719/1719 [==============================] - 8s 4ms/step - loss: 0.2711 - accuracy: 0.9023 - val_loss: 0.3092 - val_accuracy: 0.8910\n",
            "Epoch 21/30\n",
            "1719/1719 [==============================] - 8s 4ms/step - loss: 0.2665 - accuracy: 0.9043 - val_loss: 0.3069 - val_accuracy: 0.8872\n",
            "Epoch 22/30\n",
            "1719/1719 [==============================] - 7s 4ms/step - loss: 0.2616 - accuracy: 0.9064 - val_loss: 0.3090 - val_accuracy: 0.8886\n",
            "Epoch 23/30\n",
            "1719/1719 [==============================] - 8s 4ms/step - loss: 0.2578 - accuracy: 0.9079 - val_loss: 0.3084 - val_accuracy: 0.8880\n",
            "Epoch 24/30\n",
            "1719/1719 [==============================] - 7s 4ms/step - loss: 0.2526 - accuracy: 0.9084 - val_loss: 0.3039 - val_accuracy: 0.8908\n",
            "Epoch 25/30\n",
            "1719/1719 [==============================] - 7s 4ms/step - loss: 0.2486 - accuracy: 0.9104 - val_loss: 0.3024 - val_accuracy: 0.8910\n",
            "Epoch 26/30\n",
            "1719/1719 [==============================] - 7s 4ms/step - loss: 0.2449 - accuracy: 0.9117 - val_loss: 0.3104 - val_accuracy: 0.8900\n",
            "Epoch 27/30\n",
            "1719/1719 [==============================] - 7s 4ms/step - loss: 0.2404 - accuracy: 0.9140 - val_loss: 0.2963 - val_accuracy: 0.8930\n",
            "Epoch 28/30\n",
            "1719/1719 [==============================] - 7s 4ms/step - loss: 0.2367 - accuracy: 0.9145 - val_loss: 0.3020 - val_accuracy: 0.8916\n",
            "Epoch 29/30\n",
            "1719/1719 [==============================] - 8s 5ms/step - loss: 0.2318 - accuracy: 0.9172 - val_loss: 0.2976 - val_accuracy: 0.8910\n",
            "Epoch 30/30\n",
            "1719/1719 [==============================] - 8s 4ms/step - loss: 0.2284 - accuracy: 0.9184 - val_loss: 0.2961 - val_accuracy: 0.8928\n"
          ]
        }
      ]
    },
    {
      "cell_type": "code",
      "source": [
        "history"
      ],
      "metadata": {
        "id": "LOgtgpRDgP8M",
        "outputId": "77bbed3d-11dc-4217-ad2b-b8d99905ed4d",
        "colab": {
          "base_uri": "https://localhost:8080/"
        }
      },
      "execution_count": 30,
      "outputs": [
        {
          "output_type": "execute_result",
          "data": {
            "text/plain": [
              "<keras.callbacks.History at 0x7f989e2b5a90>"
            ]
          },
          "metadata": {},
          "execution_count": 30
        }
      ]
    },
    {
      "cell_type": "code",
      "source": [
        "history.history.keys()"
      ],
      "metadata": {
        "id": "zciHCrvujZ97",
        "outputId": "9098a67d-e2f1-41ae-a708-04483d00c2af",
        "colab": {
          "base_uri": "https://localhost:8080/"
        }
      },
      "execution_count": 33,
      "outputs": [
        {
          "output_type": "execute_result",
          "data": {
            "text/plain": [
              "dict_keys(['loss', 'accuracy', 'val_loss', 'val_accuracy'])"
            ]
          },
          "metadata": {},
          "execution_count": 33
        }
      ]
    },
    {
      "cell_type": "code",
      "source": [
        "history_pd = pd.DataFrame(history.history)"
      ],
      "metadata": {
        "id": "4yDDzgiokqmD"
      },
      "execution_count": 39,
      "outputs": []
    },
    {
      "cell_type": "code",
      "source": [
        "history_pd.head()"
      ],
      "metadata": {
        "id": "s9OsO-Zt6F57",
        "outputId": "6af65335-41c7-4032-c475-47e9b5b41af4",
        "colab": {
          "base_uri": "https://localhost:8080/",
          "height": 206
        }
      },
      "execution_count": 40,
      "outputs": [
        {
          "output_type": "execute_result",
          "data": {
            "text/plain": [
              "       loss  accuracy  val_loss  val_accuracy\n",
              "0  0.730653  0.757964  0.545986        0.8128\n",
              "1  0.496656  0.826691  0.463572        0.8406\n",
              "2  0.447961  0.843109  0.435933        0.8480\n",
              "3  0.418118  0.852636  0.429612        0.8492\n",
              "4  0.398051  0.860964  0.381949        0.8718"
            ],
            "text/html": [
              "\n",
              "  <div id=\"df-15e8caba-d7c1-44b7-9e0a-129688b9a059\">\n",
              "    <div class=\"colab-df-container\">\n",
              "      <div>\n",
              "<style scoped>\n",
              "    .dataframe tbody tr th:only-of-type {\n",
              "        vertical-align: middle;\n",
              "    }\n",
              "\n",
              "    .dataframe tbody tr th {\n",
              "        vertical-align: top;\n",
              "    }\n",
              "\n",
              "    .dataframe thead th {\n",
              "        text-align: right;\n",
              "    }\n",
              "</style>\n",
              "<table border=\"1\" class=\"dataframe\">\n",
              "  <thead>\n",
              "    <tr style=\"text-align: right;\">\n",
              "      <th></th>\n",
              "      <th>loss</th>\n",
              "      <th>accuracy</th>\n",
              "      <th>val_loss</th>\n",
              "      <th>val_accuracy</th>\n",
              "    </tr>\n",
              "  </thead>\n",
              "  <tbody>\n",
              "    <tr>\n",
              "      <th>0</th>\n",
              "      <td>0.730653</td>\n",
              "      <td>0.757964</td>\n",
              "      <td>0.545986</td>\n",
              "      <td>0.8128</td>\n",
              "    </tr>\n",
              "    <tr>\n",
              "      <th>1</th>\n",
              "      <td>0.496656</td>\n",
              "      <td>0.826691</td>\n",
              "      <td>0.463572</td>\n",
              "      <td>0.8406</td>\n",
              "    </tr>\n",
              "    <tr>\n",
              "      <th>2</th>\n",
              "      <td>0.447961</td>\n",
              "      <td>0.843109</td>\n",
              "      <td>0.435933</td>\n",
              "      <td>0.8480</td>\n",
              "    </tr>\n",
              "    <tr>\n",
              "      <th>3</th>\n",
              "      <td>0.418118</td>\n",
              "      <td>0.852636</td>\n",
              "      <td>0.429612</td>\n",
              "      <td>0.8492</td>\n",
              "    </tr>\n",
              "    <tr>\n",
              "      <th>4</th>\n",
              "      <td>0.398051</td>\n",
              "      <td>0.860964</td>\n",
              "      <td>0.381949</td>\n",
              "      <td>0.8718</td>\n",
              "    </tr>\n",
              "  </tbody>\n",
              "</table>\n",
              "</div>\n",
              "      <button class=\"colab-df-convert\" onclick=\"convertToInteractive('df-15e8caba-d7c1-44b7-9e0a-129688b9a059')\"\n",
              "              title=\"Convert this dataframe to an interactive table.\"\n",
              "              style=\"display:none;\">\n",
              "        \n",
              "  <svg xmlns=\"http://www.w3.org/2000/svg\" height=\"24px\"viewBox=\"0 0 24 24\"\n",
              "       width=\"24px\">\n",
              "    <path d=\"M0 0h24v24H0V0z\" fill=\"none\"/>\n",
              "    <path d=\"M18.56 5.44l.94 2.06.94-2.06 2.06-.94-2.06-.94-.94-2.06-.94 2.06-2.06.94zm-11 1L8.5 8.5l.94-2.06 2.06-.94-2.06-.94L8.5 2.5l-.94 2.06-2.06.94zm10 10l.94 2.06.94-2.06 2.06-.94-2.06-.94-.94-2.06-.94 2.06-2.06.94z\"/><path d=\"M17.41 7.96l-1.37-1.37c-.4-.4-.92-.59-1.43-.59-.52 0-1.04.2-1.43.59L10.3 9.45l-7.72 7.72c-.78.78-.78 2.05 0 2.83L4 21.41c.39.39.9.59 1.41.59.51 0 1.02-.2 1.41-.59l7.78-7.78 2.81-2.81c.8-.78.8-2.07 0-2.86zM5.41 20L4 18.59l7.72-7.72 1.47 1.35L5.41 20z\"/>\n",
              "  </svg>\n",
              "      </button>\n",
              "      \n",
              "  <style>\n",
              "    .colab-df-container {\n",
              "      display:flex;\n",
              "      flex-wrap:wrap;\n",
              "      gap: 12px;\n",
              "    }\n",
              "\n",
              "    .colab-df-convert {\n",
              "      background-color: #E8F0FE;\n",
              "      border: none;\n",
              "      border-radius: 50%;\n",
              "      cursor: pointer;\n",
              "      display: none;\n",
              "      fill: #1967D2;\n",
              "      height: 32px;\n",
              "      padding: 0 0 0 0;\n",
              "      width: 32px;\n",
              "    }\n",
              "\n",
              "    .colab-df-convert:hover {\n",
              "      background-color: #E2EBFA;\n",
              "      box-shadow: 0px 1px 2px rgba(60, 64, 67, 0.3), 0px 1px 3px 1px rgba(60, 64, 67, 0.15);\n",
              "      fill: #174EA6;\n",
              "    }\n",
              "\n",
              "    [theme=dark] .colab-df-convert {\n",
              "      background-color: #3B4455;\n",
              "      fill: #D2E3FC;\n",
              "    }\n",
              "\n",
              "    [theme=dark] .colab-df-convert:hover {\n",
              "      background-color: #434B5C;\n",
              "      box-shadow: 0px 1px 3px 1px rgba(0, 0, 0, 0.15);\n",
              "      filter: drop-shadow(0px 1px 2px rgba(0, 0, 0, 0.3));\n",
              "      fill: #FFFFFF;\n",
              "    }\n",
              "  </style>\n",
              "\n",
              "      <script>\n",
              "        const buttonEl =\n",
              "          document.querySelector('#df-15e8caba-d7c1-44b7-9e0a-129688b9a059 button.colab-df-convert');\n",
              "        buttonEl.style.display =\n",
              "          google.colab.kernel.accessAllowed ? 'block' : 'none';\n",
              "\n",
              "        async function convertToInteractive(key) {\n",
              "          const element = document.querySelector('#df-15e8caba-d7c1-44b7-9e0a-129688b9a059');\n",
              "          const dataTable =\n",
              "            await google.colab.kernel.invokeFunction('convertToInteractive',\n",
              "                                                     [key], {});\n",
              "          if (!dataTable) return;\n",
              "\n",
              "          const docLinkHtml = 'Like what you see? Visit the ' +\n",
              "            '<a target=\"_blank\" href=https://colab.research.google.com/notebooks/data_table.ipynb>data table notebook</a>'\n",
              "            + ' to learn more about interactive tables.';\n",
              "          element.innerHTML = '';\n",
              "          dataTable['output_type'] = 'display_data';\n",
              "          await google.colab.output.renderOutput(dataTable, element);\n",
              "          const docLink = document.createElement('div');\n",
              "          docLink.innerHTML = docLinkHtml;\n",
              "          element.appendChild(docLink);\n",
              "        }\n",
              "      </script>\n",
              "    </div>\n",
              "  </div>\n",
              "  "
            ]
          },
          "metadata": {},
          "execution_count": 40
        }
      ]
    },
    {
      "cell_type": "code",
      "source": [
        "history_pd.plot(figsize=(14,8))\n",
        "plt.grid()\n",
        "plt.show()"
      ],
      "metadata": {
        "id": "2ruslvlS7qOj",
        "outputId": "1712c1b5-d71d-4a5f-c8cb-db7c26f06f80",
        "colab": {
          "base_uri": "https://localhost:8080/",
          "height": 483
        }
      },
      "execution_count": 48,
      "outputs": [
        {
          "output_type": "display_data",
          "data": {
            "text/plain": [
              "<Figure size 1008x576 with 1 Axes>"
            ],
            "image/png": "[encoded data removed]"
          },
          "metadata": {
            "needs_background": "light"
          }
        }
      ]
    },
    {
      "cell_type": "code",
      "source": [
        "predictions = model.predict(x_train)"
      ],
      "metadata": {
        "id": "1qroIxw47xic"
      },
      "execution_count": 49,
      "outputs": []
    },
    {
      "cell_type": "code",
      "source": [
        "predictions_pd = pd.DataFrame(predictions)"
      ],
      "metadata": {
        "id": "fIIUl6pg-bS9"
      },
      "execution_count": 54,
      "outputs": []
    },
    {
      "cell_type": "code",
      "source": [
        "predictions_pd.head()"
      ],
      "metadata": {
        "id": "EhwR-JAj-150",
        "outputId": "a498cffd-0cf6-426d-ec04-e8c526ef07f5",
        "colab": {
          "base_uri": "https://localhost:8080/",
          "height": 214
        }
      },
      "execution_count": 57,
      "outputs": [
        {
          "output_type": "execute_result",
          "data": {
            "text/plain": [
              "              0             1             2             3             4  \\\n",
              "0  1.640365e-05  9.551047e-07  1.813976e-01  2.293696e-06  7.752162e-01   \n",
              "1  9.293510e-01  1.034663e-06  1.007527e-03  1.368117e-05  1.703088e-06   \n",
              "2  3.732049e-05  5.722103e-06  5.209404e-06  3.778260e-07  2.777761e-07   \n",
              "3  1.232958e-09  3.156603e-10  5.743264e-11  5.970360e-12  1.657916e-11   \n",
              "4  6.387712e-07  2.170523e-07  4.501885e-08  6.905366e-09  9.844601e-08   \n",
              "\n",
              "              5             6             7             8             9  \n",
              "0  8.939261e-08  4.335581e-02  3.813195e-11  1.067206e-05  1.331603e-11  \n",
              "1  4.221398e-08  6.962293e-02  4.252056e-08  2.086804e-06  9.742875e-09  \n",
              "2  1.924180e-03  1.539486e-05  8.984478e-01  8.023570e-04  9.876128e-02  \n",
              "3  7.296333e-06  6.925426e-11  2.885727e-04  3.323867e-09  9.997041e-01  \n",
              "4  6.306340e-04  2.824174e-07  4.021912e-03  9.251606e-06  9.953369e-01  "
            ],
            "text/html": [
              "\n",
              "  <div id=\"df-1a6be2eb-64e6-4e9e-ba06-c6b2afd9e336\">\n",
              "    <div class=\"colab-df-container\">\n",
              "      <div>\n",
              "<style scoped>\n",
              "    .dataframe tbody tr th:only-of-type {\n",
              "        vertical-align: middle;\n",
              "    }\n",
              "\n",
              "    .dataframe tbody tr th {\n",
              "        vertical-align: top;\n",
              "    }\n",
              "\n",
              "    .dataframe thead th {\n",
              "        text-align: right;\n",
              "    }\n",
              "</style>\n",
              "<table border=\"1\" class=\"dataframe\">\n",
              "  <thead>\n",
              "    <tr style=\"text-align: right;\">\n",
              "      <th></th>\n",
              "      <th>0</th>\n",
              "      <th>1</th>\n",
              "      <th>2</th>\n",
              "      <th>3</th>\n",
              "      <th>4</th>\n",
              "      <th>5</th>\n",
              "      <th>6</th>\n",
              "      <th>7</th>\n",
              "      <th>8</th>\n",
              "      <th>9</th>\n",
              "    </tr>\n",
              "  </thead>\n",
              "  <tbody>\n",
              "    <tr>\n",
              "      <th>0</th>\n",
              "      <td>1.640365e-05</td>\n",
              "      <td>9.551047e-07</td>\n",
              "      <td>1.813976e-01</td>\n",
              "      <td>2.293696e-06</td>\n",
              "      <td>7.752162e-01</td>\n",
              "      <td>8.939261e-08</td>\n",
              "      <td>4.335581e-02</td>\n",
              "      <td>3.813195e-11</td>\n",
              "      <td>1.067206e-05</td>\n",
              "      <td>1.331603e-11</td>\n",
              "    </tr>\n",
              "    <tr>\n",
              "      <th>1</th>\n",
              "      <td>9.293510e-01</td>\n",
              "      <td>1.034663e-06</td>\n",
              "      <td>1.007527e-03</td>\n",
              "      <td>1.368117e-05</td>\n",
              "      <td>1.703088e-06</td>\n",
              "      <td>4.221398e-08</td>\n",
              "      <td>6.962293e-02</td>\n",
              "      <td>4.252056e-08</td>\n",
              "      <td>2.086804e-06</td>\n",
              "      <td>9.742875e-09</td>\n",
              "    </tr>\n",
              "    <tr>\n",
              "      <th>2</th>\n",
              "      <td>3.732049e-05</td>\n",
              "      <td>5.722103e-06</td>\n",
              "      <td>5.209404e-06</td>\n",
              "      <td>3.778260e-07</td>\n",
              "      <td>2.777761e-07</td>\n",
              "      <td>1.924180e-03</td>\n",
              "      <td>1.539486e-05</td>\n",
              "      <td>8.984478e-01</td>\n",
              "      <td>8.023570e-04</td>\n",
              "      <td>9.876128e-02</td>\n",
              "    </tr>\n",
              "    <tr>\n",
              "      <th>3</th>\n",
              "      <td>1.232958e-09</td>\n",
              "      <td>3.156603e-10</td>\n",
              "      <td>5.743264e-11</td>\n",
              "      <td>5.970360e-12</td>\n",
              "      <td>1.657916e-11</td>\n",
              "      <td>7.296333e-06</td>\n",
              "      <td>6.925426e-11</td>\n",
              "      <td>2.885727e-04</td>\n",
              "      <td>3.323867e-09</td>\n",
              "      <td>9.997041e-01</td>\n",
              "    </tr>\n",
              "    <tr>\n",
              "      <th>4</th>\n",
              "      <td>6.387712e-07</td>\n",
              "      <td>2.170523e-07</td>\n",
              "      <td>4.501885e-08</td>\n",
              "      <td>6.905366e-09</td>\n",
              "      <td>9.844601e-08</td>\n",
              "      <td>6.306340e-04</td>\n",
              "      <td>2.824174e-07</td>\n",
              "      <td>4.021912e-03</td>\n",
              "      <td>9.251606e-06</td>\n",
              "      <td>9.953369e-01</td>\n",
              "    </tr>\n",
              "  </tbody>\n",
              "</table>\n",
              "</div>\n",
              "      <button class=\"colab-df-convert\" onclick=\"convertToInteractive('df-1a6be2eb-64e6-4e9e-ba06-c6b2afd9e336')\"\n",
              "              title=\"Convert this dataframe to an interactive table.\"\n",
              "              style=\"display:none;\">\n",
              "        \n",
              "  <svg xmlns=\"http://www.w3.org/2000/svg\" height=\"24px\"viewBox=\"0 0 24 24\"\n",
              "       width=\"24px\">\n",
              "    <path d=\"M0 0h24v24H0V0z\" fill=\"none\"/>\n",
              "    <path d=\"M18.56 5.44l.94 2.06.94-2.06 2.06-.94-2.06-.94-.94-2.06-.94 2.06-2.06.94zm-11 1L8.5 8.5l.94-2.06 2.06-.94-2.06-.94L8.5 2.5l-.94 2.06-2.06.94zm10 10l.94 2.06.94-2.06 2.06-.94-2.06-.94-.94-2.06-.94 2.06-2.06.94z\"/><path d=\"M17.41 7.96l-1.37-1.37c-.4-.4-.92-.59-1.43-.59-.52 0-1.04.2-1.43.59L10.3 9.45l-7.72 7.72c-.78.78-.78 2.05 0 2.83L4 21.41c.39.39.9.59 1.41.59.51 0 1.02-.2 1.41-.59l7.78-7.78 2.81-2.81c.8-.78.8-2.07 0-2.86zM5.41 20L4 18.59l7.72-7.72 1.47 1.35L5.41 20z\"/>\n",
              "  </svg>\n",
              "      </button>\n",
              "      \n",
              "  <style>\n",
              "    .colab-df-container {\n",
              "      display:flex;\n",
              "      flex-wrap:wrap;\n",
              "      gap: 12px;\n",
              "    }\n",
              "\n",
              "    .colab-df-convert {\n",
              "      background-color: #E8F0FE;\n",
              "      border: none;\n",
              "      border-radius: 50%;\n",
              "      cursor: pointer;\n",
              "      display: none;\n",
              "      fill: #1967D2;\n",
              "      height: 32px;\n",
              "      padding: 0 0 0 0;\n",
              "      width: 32px;\n",
              "    }\n",
              "\n",
              "    .colab-df-convert:hover {\n",
              "      background-color: #E2EBFA;\n",
              "      box-shadow: 0px 1px 2px rgba(60, 64, 67, 0.3), 0px 1px 3px 1px rgba(60, 64, 67, 0.15);\n",
              "      fill: #174EA6;\n",
              "    }\n",
              "\n",
              "    [theme=dark] .colab-df-convert {\n",
              "      background-color: #3B4455;\n",
              "      fill: #D2E3FC;\n",
              "    }\n",
              "\n",
              "    [theme=dark] .colab-df-convert:hover {\n",
              "      background-color: #434B5C;\n",
              "      box-shadow: 0px 1px 3px 1px rgba(0, 0, 0, 0.15);\n",
              "      filter: drop-shadow(0px 1px 2px rgba(0, 0, 0, 0.3));\n",
              "      fill: #FFFFFF;\n",
              "    }\n",
              "  </style>\n",
              "\n",
              "      <script>\n",
              "        const buttonEl =\n",
              "          document.querySelector('#df-1a6be2eb-64e6-4e9e-ba06-c6b2afd9e336 button.colab-df-convert');\n",
              "        buttonEl.style.display =\n",
              "          google.colab.kernel.accessAllowed ? 'block' : 'none';\n",
              "\n",
              "        async function convertToInteractive(key) {\n",
              "          const element = document.querySelector('#df-1a6be2eb-64e6-4e9e-ba06-c6b2afd9e336');\n",
              "          const dataTable =\n",
              "            await google.colab.kernel.invokeFunction('convertToInteractive',\n",
              "                                                     [key], {});\n",
              "          if (!dataTable) return;\n",
              "\n",
              "          const docLinkHtml = 'Like what you see? Visit the ' +\n",
              "            '<a target=\"_blank\" href=https://colab.research.google.com/notebooks/data_table.ipynb>data table notebook</a>'\n",
              "            + ' to learn more about interactive tables.';\n",
              "          element.innerHTML = '';\n",
              "          dataTable['output_type'] = 'display_data';\n",
              "          await google.colab.output.renderOutput(dataTable, element);\n",
              "          const docLink = document.createElement('div');\n",
              "          docLink.innerHTML = docLinkHtml;\n",
              "          element.appendChild(docLink);\n",
              "        }\n",
              "      </script>\n",
              "    </div>\n",
              "  </div>\n",
              "  "
            ]
          },
          "metadata": {},
          "execution_count": 57
        }
      ]
    },
    {
      "cell_type": "code",
      "source": [
        "predictions_classes = model.predict_classes(x_train)"
      ],
      "metadata": {
        "id": "Q5xLxVml_FLS",
        "outputId": "d29036e1-400e-4ffe-9ec7-20a62ec8b6d3",
        "colab": {
          "base_uri": "https://localhost:8080/",
          "height": 169
        }
      },
      "execution_count": 58,
      "outputs": [
        {
          "output_type": "error",
          "ename": "AttributeError",
          "evalue": "ignored",
          "traceback": [
            "\u001b[0;31m---------------------------------------------------------------------------\u001b[0m",
            "\u001b[0;31mAttributeError\u001b[0m                            Traceback (most recent call last)",
            "\u001b[0;32m<ipython-input-58-3607cb6471d0>\u001b[0m in \u001b[0;36m<module>\u001b[0;34m()\u001b[0m\n\u001b[0;32m----> 1\u001b[0;31m \u001b[0mpredictions_classes\u001b[0m \u001b[0;34m=\u001b[0m \u001b[0mmodel\u001b[0m\u001b[0;34m.\u001b[0m\u001b[0mpredict_classes\u001b[0m\u001b[0;34m(\u001b[0m\u001b[0mx_train\u001b[0m\u001b[0;34m)\u001b[0m\u001b[0;34m\u001b[0m\u001b[0;34m\u001b[0m\u001b[0m\n\u001b[0m",
            "\u001b[0;31mAttributeError\u001b[0m: 'Sequential' object has no attribute 'predict_classes'"
          ]
        }
      ]
    },
    {
      "cell_type": "code",
      "source": [
        ""
      ],
      "metadata": {
        "id": "fO9r_Yvo_ZkD"
      },
      "execution_count": null,
      "outputs": []
    }
  ]
}