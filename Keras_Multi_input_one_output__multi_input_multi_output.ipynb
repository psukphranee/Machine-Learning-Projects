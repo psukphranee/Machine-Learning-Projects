{
  "nbformat": 4,
  "nbformat_minor": 0,
  "metadata": {
    "colab": {
      "provenance": [],
      "authorship_tag": "ABX9TyP/GrwIzbPajpGrOzsQl/cg",
      "include_colab_link": true
    },
    "kernelspec": {
      "name": "python3",
      "display_name": "Python 3"
    },
    "language_info": {
      "name": "python"
    }
  },
  "cells": [
    {
      "cell_type": "markdown",
      "metadata": {
        "id": "view-in-github",
        "colab_type": "text"
      },
      "source": [
        "<a href=\"https://colab.research.google.com/github/psukphranee/Machine-Learning-Projects/blob/master/Keras_Multi_input_one_output__multi_input_multi_output.ipynb\" target=\"_parent\"><img src=\"https://colab.research.google.com/assets/colab-badge.svg\" alt=\"Open In Colab\"/></a>"
      ]
    },
    {
      "cell_type": "code",
      "execution_count": 2,
      "metadata": {
        "id": "NX6gKPVgcQoC"
      },
      "outputs": [],
      "source": [
        "import tensorflow as tf\n",
        "from tensorflow import keras"
      ]
    },
    {
      "cell_type": "code",
      "source": [
        "from sklearn.datasets import fetch_california_housing\n",
        "from sklearn.model_selection import train_test_split\n",
        "from sklearn.preprocessing import StandardScaler\n",
        "\n",
        "housing = fetch_california_housing()"
      ],
      "metadata": {
        "id": "qwxDjTtkeaKy"
      },
      "execution_count": 33,
      "outputs": []
    },
    {
      "cell_type": "code",
      "source": [
        "X_train_full, X_test, y_train_full, y_test = train_test_split(housing.data, housing.target, random_state=42)\n",
        "X_train, X_valid, y_train, y_valid = train_test_split(X_train_full, y_train_full, random_state=42)"
      ],
      "metadata": {
        "id": "eCBrz_GKgtt7"
      },
      "execution_count": 34,
      "outputs": []
    },
    {
      "cell_type": "code",
      "source": [
        "scaler = StandardScaler()\n",
        "X_train = scaler.fit_transform(X_train)\n",
        "X_valid = scaler.transform(X_valid)\n",
        "X_test = scaler.transform(X_test)\n"
      ],
      "metadata": {
        "id": "yMrGynvvmC56"
      },
      "execution_count": 69,
      "outputs": []
    },
    {
      "cell_type": "code",
      "source": [
        "display(scaler.get_params)"
      ],
      "metadata": {
        "colab": {
          "base_uri": "https://localhost:8080/",
          "height": 34
        },
        "id": "_pukvF3wnC55",
        "outputId": "19f58f97-51eb-4c06-b115-d47a30702b5f"
      },
      "execution_count": 51,
      "outputs": [
        {
          "output_type": "display_data",
          "data": {
            "text/plain": [
              "<bound method BaseEstimator.get_params of StandardScaler()>"
            ]
          },
          "metadata": {}
        }
      ]
    },
    {
      "cell_type": "code",
      "source": [
        "#create model\n",
        "\n",
        "input_A = keras.layers.Input(shape=[5], name=\"wide_input\")\n",
        "input_B = keras.layers.Input(shape=[6], name=\"deep_input\")\n",
        "\n",
        "hidden1 = keras.layers.Dense(30, activation=\"relu\")(input_B)\n",
        "hidden2 = keras.layers.Dense(30, activation=\"relu\")(hidden1)\n",
        "\n",
        "concat = keras.layers.concatenate([input_A, hidden2])\n",
        "\n",
        "output = keras.layers.Dense(1, name=\"main_output\")(concat)\n",
        "\n",
        "model = keras.models.Model(inputs=[input_A, input_B], outputs=[output])"
      ],
      "metadata": {
        "id": "Tmy86AzqemQL"
      },
      "execution_count": 60,
      "outputs": []
    },
    {
      "cell_type": "code",
      "source": [
        "\n",
        "model.compile(loss=\"mean_squared_error\", optimizer=keras.optimizers.SGD(learning_rate=1e-3))"
      ],
      "metadata": {
        "id": "RAlxxWKph_8x"
      },
      "execution_count": 72,
      "outputs": []
    },
    {
      "cell_type": "code",
      "source": [
        "X_train_A, X_train_B = X_train[:,:5], X_train[:, 2:]\n",
        "X_valid_A, X_valid_B = X_valid[:,:5], X_valid[:, 2:]\n",
        "\n",
        "X_test_A, X_test_B = X_test[:,:5], X_test[:, 2:]\n",
        "\n",
        "X_new_A = X_test_A[:3]\n",
        "X_new_B = X_test_B[:3]"
      ],
      "metadata": {
        "id": "dL6A8huViK8V"
      },
      "execution_count": 70,
      "outputs": []
    },
    {
      "cell_type": "code",
      "source": [
        "X_train_B[:3]"
      ],
      "metadata": {
        "colab": {
          "base_uri": "https://localhost:8080/"
        },
        "id": "I4Rbve7Ek83f",
        "outputId": "2a84bd77-72a3-45a9-b26c-6218240e53f3"
      },
      "execution_count": 56,
      "outputs": [
        {
          "output_type": "execute_result",
          "data": {
            "text/plain": [
              "array([[-0.94338545,  0.01485314,  0.02073335, -0.57291624,  0.92926047,\n",
              "        -1.42215523],\n",
              "       [ 0.40547793, -0.23327682,  1.8614649 ,  0.20516532, -0.91654738,\n",
              "         1.09666969],\n",
              "       [ 0.81808819,  1.05678372, -0.08786707, -0.29983271,  1.30872858,\n",
              "        -1.697027  ]])"
            ]
          },
          "metadata": {},
          "execution_count": 56
        }
      ]
    },
    {
      "cell_type": "code",
      "source": [
        "history = model.fit((X_train_A, X_train_B), y_train, epochs=20,\n",
        "                    validation_data=((X_valid_A, X_valid_B), y_valid))"
      ],
      "metadata": {
        "colab": {
          "base_uri": "https://localhost:8080/"
        },
        "id": "XSdzt0S8i2dK",
        "outputId": "9b9bfb01-1616-4f8f-9a1e-ea56fd0cfcf9"
      },
      "execution_count": 73,
      "outputs": [
        {
          "output_type": "stream",
          "name": "stdout",
          "text": [
            "Epoch 1/20\n",
            "363/363 [==============================] - 1s 2ms/step - loss: 1.9320 - val_loss: 1.1291\n",
            "Epoch 2/20\n",
            "363/363 [==============================] - 1s 2ms/step - loss: 0.7295 - val_loss: 0.6691\n",
            "Epoch 3/20\n",
            "363/363 [==============================] - 1s 3ms/step - loss: 0.6232 - val_loss: 0.5800\n",
            "Epoch 4/20\n",
            "363/363 [==============================] - 1s 2ms/step - loss: 0.5684 - val_loss: 0.5392\n",
            "Epoch 5/20\n",
            "363/363 [==============================] - 1s 2ms/step - loss: 0.5324 - val_loss: 0.5093\n",
            "Epoch 6/20\n",
            "363/363 [==============================] - 1s 1ms/step - loss: 0.5062 - val_loss: 0.4867\n",
            "Epoch 7/20\n",
            "363/363 [==============================] - 1s 2ms/step - loss: 0.4872 - val_loss: 0.4671\n",
            "Epoch 8/20\n",
            "363/363 [==============================] - 1s 1ms/step - loss: 0.4736 - val_loss: 0.4517\n",
            "Epoch 9/20\n",
            "363/363 [==============================] - 1s 2ms/step - loss: 0.4631 - val_loss: 0.4357\n",
            "Epoch 10/20\n",
            "363/363 [==============================] - 1s 1ms/step - loss: 0.4554 - val_loss: 0.4250\n",
            "Epoch 11/20\n",
            "363/363 [==============================] - 1s 1ms/step - loss: 0.4498 - val_loss: 0.4175\n",
            "Epoch 12/20\n",
            "363/363 [==============================] - 1s 2ms/step - loss: 0.4451 - val_loss: 0.4123\n",
            "Epoch 13/20\n",
            "363/363 [==============================] - 1s 2ms/step - loss: 0.4412 - val_loss: 0.4100\n",
            "Epoch 14/20\n",
            "363/363 [==============================] - 1s 2ms/step - loss: 0.4382 - val_loss: 0.4090\n",
            "Epoch 15/20\n",
            "363/363 [==============================] - 1s 2ms/step - loss: 0.4353 - val_loss: 0.4071\n",
            "Epoch 16/20\n",
            "363/363 [==============================] - 1s 2ms/step - loss: 0.4328 - val_loss: 0.4047\n",
            "Epoch 17/20\n",
            "363/363 [==============================] - 1s 2ms/step - loss: 0.4304 - val_loss: 0.4049\n",
            "Epoch 18/20\n",
            "363/363 [==============================] - 1s 2ms/step - loss: 0.4286 - val_loss: 0.4041\n",
            "Epoch 19/20\n",
            "363/363 [==============================] - 1s 2ms/step - loss: 0.4262 - val_loss: 0.4022\n",
            "Epoch 20/20\n",
            "363/363 [==============================] - 1s 1ms/step - loss: 0.4248 - val_loss: 0.4114\n"
          ]
        }
      ]
    },
    {
      "cell_type": "code",
      "source": [
        "\n",
        "aux_output = keras.layers.Dense(1, name=\"aux_output\")(hidden2)\n",
        "model2 = keras.Model(inputs=[input_A, input_B], outputs=[output, aux_output])\n",
        "model2.compile(loss=[\"mse\", \"mse\"], loss_weights=[0.9, 0.1], optimizer=\"sgd\")"
      ],
      "metadata": {
        "id": "3rKojeQusMwo"
      },
      "execution_count": 76,
      "outputs": []
    },
    {
      "cell_type": "code",
      "source": [
        "history2 = model2.fit([X_train_A, X_train_B], [y_train, y_train], epochs=20,\n",
        "                    validation_data=([X_valid_A, X_valid_B], [y_valid, y_valid]))"
      ],
      "metadata": {
        "colab": {
          "base_uri": "https://localhost:8080/"
        },
        "id": "ZaD-kPM0t6OK",
        "outputId": "f16b44dd-db19-4143-d7c0-63f29dbf4266"
      },
      "execution_count": 77,
      "outputs": [
        {
          "output_type": "stream",
          "name": "stdout",
          "text": [
            "Epoch 1/20\n",
            "363/363 [==============================] - 1s 2ms/step - loss: 0.8918 - main_output_loss: 0.7922 - aux_output_loss: 1.7888 - val_loss: 2.3906 - val_main_output_loss: 2.3913 - val_aux_output_loss: 2.3845\n",
            "Epoch 2/20\n",
            "363/363 [==============================] - 1s 2ms/step - loss: 0.5219 - main_output_loss: 0.4741 - aux_output_loss: 0.9526 - val_loss: 8.0645 - val_main_output_loss: 8.4291 - val_aux_output_loss: 4.7833\n",
            "Epoch 3/20\n",
            "363/363 [==============================] - 1s 2ms/step - loss: 0.5462 - main_output_loss: 0.5155 - aux_output_loss: 0.8224 - val_loss: 0.8844 - val_main_output_loss: 0.8713 - val_aux_output_loss: 1.0017\n",
            "Epoch 4/20\n",
            "363/363 [==============================] - 1s 2ms/step - loss: 0.4494 - main_output_loss: 0.4211 - aux_output_loss: 0.7045 - val_loss: 0.4483 - val_main_output_loss: 0.4247 - val_aux_output_loss: 0.6609\n",
            "Epoch 5/20\n",
            "363/363 [==============================] - 1s 2ms/step - loss: 0.4309 - main_output_loss: 0.4069 - aux_output_loss: 0.6471 - val_loss: 0.4309 - val_main_output_loss: 0.4072 - val_aux_output_loss: 0.6449\n",
            "Epoch 6/20\n",
            "363/363 [==============================] - 1s 2ms/step - loss: 0.4178 - main_output_loss: 0.3963 - aux_output_loss: 0.6112 - val_loss: 0.4245 - val_main_output_loss: 0.3944 - val_aux_output_loss: 0.6959\n",
            "Epoch 7/20\n",
            "363/363 [==============================] - 1s 2ms/step - loss: 0.4193 - main_output_loss: 0.3999 - aux_output_loss: 0.5944 - val_loss: 0.4022 - val_main_output_loss: 0.3780 - val_aux_output_loss: 0.6205\n",
            "Epoch 8/20\n",
            "363/363 [==============================] - 1s 2ms/step - loss: 0.4046 - main_output_loss: 0.3863 - aux_output_loss: 0.5689 - val_loss: 0.3976 - val_main_output_loss: 0.3724 - val_aux_output_loss: 0.6241\n",
            "Epoch 9/20\n",
            "363/363 [==============================] - 1s 2ms/step - loss: 0.3973 - main_output_loss: 0.3798 - aux_output_loss: 0.5544 - val_loss: 0.4260 - val_main_output_loss: 0.4047 - val_aux_output_loss: 0.6180\n",
            "Epoch 10/20\n",
            "363/363 [==============================] - 1s 2ms/step - loss: 0.3926 - main_output_loss: 0.3759 - aux_output_loss: 0.5435 - val_loss: 0.3972 - val_main_output_loss: 0.3722 - val_aux_output_loss: 0.6215\n",
            "Epoch 11/20\n",
            "363/363 [==============================] - 1s 2ms/step - loss: 0.3903 - main_output_loss: 0.3745 - aux_output_loss: 0.5327 - val_loss: 0.3676 - val_main_output_loss: 0.3502 - val_aux_output_loss: 0.5243\n",
            "Epoch 12/20\n",
            "363/363 [==============================] - 1s 2ms/step - loss: 0.3859 - main_output_loss: 0.3704 - aux_output_loss: 0.5248 - val_loss: 0.3751 - val_main_output_loss: 0.3535 - val_aux_output_loss: 0.5701\n",
            "Epoch 13/20\n",
            "363/363 [==============================] - 1s 2ms/step - loss: 0.3825 - main_output_loss: 0.3676 - aux_output_loss: 0.5164 - val_loss: 0.3705 - val_main_output_loss: 0.3497 - val_aux_output_loss: 0.5576\n",
            "Epoch 14/20\n",
            "363/363 [==============================] - 1s 2ms/step - loss: 0.3776 - main_output_loss: 0.3625 - aux_output_loss: 0.5136 - val_loss: 0.3661 - val_main_output_loss: 0.3492 - val_aux_output_loss: 0.5178\n",
            "Epoch 15/20\n",
            "363/363 [==============================] - 1s 2ms/step - loss: 0.3762 - main_output_loss: 0.3621 - aux_output_loss: 0.5031 - val_loss: 0.3622 - val_main_output_loss: 0.3409 - val_aux_output_loss: 0.5541\n",
            "Epoch 16/20\n",
            "363/363 [==============================] - 1s 2ms/step - loss: 0.3720 - main_output_loss: 0.3578 - aux_output_loss: 0.5004 - val_loss: 0.3539 - val_main_output_loss: 0.3369 - val_aux_output_loss: 0.5067\n",
            "Epoch 17/20\n",
            "363/363 [==============================] - 1s 2ms/step - loss: 0.3708 - main_output_loss: 0.3571 - aux_output_loss: 0.4945 - val_loss: 0.3670 - val_main_output_loss: 0.3483 - val_aux_output_loss: 0.5344\n",
            "Epoch 18/20\n",
            "363/363 [==============================] - 1s 2ms/step - loss: 0.3676 - main_output_loss: 0.3541 - aux_output_loss: 0.4895 - val_loss: 0.3498 - val_main_output_loss: 0.3325 - val_aux_output_loss: 0.5053\n",
            "Epoch 19/20\n",
            "363/363 [==============================] - 1s 2ms/step - loss: 0.3696 - main_output_loss: 0.3564 - aux_output_loss: 0.4882 - val_loss: 0.3569 - val_main_output_loss: 0.3382 - val_aux_output_loss: 0.5254\n",
            "Epoch 20/20\n",
            "363/363 [==============================] - 1s 2ms/step - loss: 0.3645 - main_output_loss: 0.3514 - aux_output_loss: 0.4829 - val_loss: 0.3729 - val_main_output_loss: 0.3539 - val_aux_output_loss: 0.5445\n"
          ]
        }
      ]
    },
    {
      "cell_type": "code",
      "source": [
        "total_loss, main_loss, aux_loss = model2.evaluate(\n",
        "    [X_test_A, X_test_B], [y_test, y_test]\n",
        ")"
      ],
      "metadata": {
        "colab": {
          "base_uri": "https://localhost:8080/"
        },
        "id": "MvYKLmKovPpn",
        "outputId": "58fafc58-7e9d-4f82-ce87-56146073c100"
      },
      "execution_count": 78,
      "outputs": [
        {
          "output_type": "stream",
          "name": "stdout",
          "text": [
            "162/162 [==============================] - 0s 1ms/step - loss: 0.3563 - main_output_loss: 0.3431 - aux_output_loss: 0.4745\n"
          ]
        }
      ]
    }
  ]
}