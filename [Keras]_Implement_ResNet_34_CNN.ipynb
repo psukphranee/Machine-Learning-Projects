{
  "nbformat": 4,
  "nbformat_minor": 0,
  "metadata": {
    "colab": {
      "provenance": [],
      "authorship_tag": "ABX9TyPUoQvxnVZJElF9mCcoQEmS",
      "include_colab_link": true
    },
    "kernelspec": {
      "name": "python3",
      "display_name": "Python 3"
    },
    "language_info": {
      "name": "python"
    }
  },
  "cells": [
    {
      "cell_type": "markdown",
      "metadata": {
        "id": "view-in-github",
        "colab_type": "text"
      },
      "source": [
        "<a href=\"https://colab.research.google.com/github/psukphranee/Machine-Learning-Projects/blob/master/%5BKeras%5D_Implement_ResNet_34_CNN.ipynb\" target=\"_parent\"><img src=\"https://colab.research.google.com/assets/colab-badge.svg\" alt=\"Open In Colab\"/></a>"
      ]
    },
    {
      "cell_type": "code",
      "execution_count": 1,
      "metadata": {
        "id": "bV9rDs-shCwL"
      },
      "outputs": [],
      "source": [
        "import tensorflow as tf\n",
        "from tensorflow import keras"
      ]
    },
    {
      "cell_type": "code",
      "source": [
        "class ResidualUnit(keras.layers.Layer):\n",
        "\n",
        "  def __init__(self, filters, strides=1, activation=\"relu\", **kwargs):\n",
        "\n",
        "    super().__init__(**kwargs)\n",
        "    self.activation = keras.activations.get(activation)\n",
        "    self.main_layers = [\n",
        "        keras.layers.Conv2D(filters, 3, strides=strides, padding=\"same\", use_bias=False),\n",
        "        keras.layers.BatchNormalization(),\n",
        "        self.activation,\n",
        "        keras.layers.Conv2D(filters, 3, strides=1, padding=\"same\", use_bias=False),\n",
        "        keras.layers.BatchNormalization()\n",
        "    ]\n",
        "\n",
        "    self.skip_layers = []\n",
        "    if strides > 1:\n",
        "      self.skip_layers = [\n",
        "          keras.layers.Conv2D(filters, 1, strides=strides, padding=\"same\", use_bias=False),\n",
        "        keras.layers.BatchNormalization()\n",
        "      ]\n",
        "\n",
        "  def call(self, inputs):\n",
        "\n",
        "    Z = inputs\n",
        "\n",
        "    #pass thru module\n",
        "    for layer in self.main_layers:\n",
        "      Z = layer(Z)\n",
        "\n",
        "    skip_Z = inputs\n",
        "    for layer in self.skip_layers:\n",
        "      skip_Z = layer(skip_Z)\n",
        "\n",
        "    return self.activation(Z + skip_Z)"
      ],
      "metadata": {
        "id": "XfQkidBAiKLU"
      },
      "execution_count": 18,
      "outputs": []
    },
    {
      "cell_type": "code",
      "source": [
        "model = keras.models.Sequential()\n",
        "model.add(keras.layers.Conv2D(64, kernel_size=7, strides=2,\n",
        "                        input_shape=[28, 28, 1]))\n",
        "model.add(keras.layers.BatchNormalization())\n",
        "model.add(keras.layers.Activation(\"relu\"))\n",
        "model.add(keras.layers.MaxPool2D(pool_size=3, strides=2, padding=\"SAME\"))\n",
        "prev_filters = 64\n",
        "for filters in [64] * 3 + [128] * 4 + [256] * 6 + [512] * 3:\n",
        "    stridez = 1 if filters == prev_filters else 2\n",
        "    model.add(ResidualUnit(filters, strides=stridez))\n",
        "    prev_filters = filters\n",
        "model.add(keras.layers.GlobalAvgPool2D())\n",
        "model.add(keras.layers.Flatten())\n",
        "model.add(keras.layers.Dense(10, activation=\"softmax\"))"
      ],
      "metadata": {
        "id": "ZaWTO79OsfVh"
      },
      "execution_count": 19,
      "outputs": []
    },
    {
      "cell_type": "code",
      "source": [
        "model.summary()"
      ],
      "metadata": {
        "colab": {
          "base_uri": "https://localhost:8080/"
        },
        "id": "de-Pep96v3fM",
        "outputId": "0e386245-4fc8-406f-c769-f78d90959f85"
      },
      "execution_count": 20,
      "outputs": [
        {
          "output_type": "stream",
          "name": "stdout",
          "text": [
            "Model: \"sequential_10\"\n",
            "_________________________________________________________________\n",
            " Layer (type)                Output Shape              Param #   \n",
            "=================================================================\n",
            " conv2d_26 (Conv2D)          (None, 11, 11, 64)        3200      \n",
            "                                                                 \n",
            " batch_normalization_26 (Ba  (None, 11, 11, 64)        256       \n",
            " tchNormalization)                                               \n",
            "                                                                 \n",
            " activation_8 (Activation)   (None, 11, 11, 64)        0         \n",
            "                                                                 \n",
            " max_pooling2d_8 (MaxPoolin  (None, 6, 6, 64)          0         \n",
            " g2D)                                                            \n",
            "                                                                 \n",
            " residual_unit_12 (Residual  (None, 6, 6, 64)          74240     \n",
            " Unit)                                                           \n",
            "                                                                 \n",
            " residual_unit_13 (Residual  (None, 6, 6, 64)          74240     \n",
            " Unit)                                                           \n",
            "                                                                 \n",
            " residual_unit_14 (Residual  (None, 6, 6, 64)          74240     \n",
            " Unit)                                                           \n",
            "                                                                 \n",
            " residual_unit_15 (Residual  (None, 3, 3, 128)         230912    \n",
            " Unit)                                                           \n",
            "                                                                 \n",
            " residual_unit_16 (Residual  (None, 3, 3, 128)         295936    \n",
            " Unit)                                                           \n",
            "                                                                 \n",
            " residual_unit_17 (Residual  (None, 3, 3, 128)         295936    \n",
            " Unit)                                                           \n",
            "                                                                 \n",
            " residual_unit_18 (Residual  (None, 3, 3, 128)         295936    \n",
            " Unit)                                                           \n",
            "                                                                 \n",
            " residual_unit_19 (Residual  (None, 2, 2, 256)         920576    \n",
            " Unit)                                                           \n",
            "                                                                 \n",
            " residual_unit_20 (Residual  (None, 2, 2, 256)         1181696   \n",
            " Unit)                                                           \n",
            "                                                                 \n",
            " residual_unit_21 (Residual  (None, 2, 2, 256)         1181696   \n",
            " Unit)                                                           \n",
            "                                                                 \n",
            " residual_unit_22 (Residual  (None, 2, 2, 256)         1181696   \n",
            " Unit)                                                           \n",
            "                                                                 \n",
            " residual_unit_23 (Residual  (None, 2, 2, 256)         1181696   \n",
            " Unit)                                                           \n",
            "                                                                 \n",
            " residual_unit_24 (Residual  (None, 2, 2, 256)         1181696   \n",
            " Unit)                                                           \n",
            "                                                                 \n",
            " residual_unit_25 (Residual  (None, 1, 1, 512)         3676160   \n",
            " Unit)                                                           \n",
            "                                                                 \n",
            " residual_unit_26 (Residual  (None, 1, 1, 512)         4722688   \n",
            " Unit)                                                           \n",
            "                                                                 \n",
            " residual_unit_27 (Residual  (None, 1, 1, 512)         4722688   \n",
            " Unit)                                                           \n",
            "                                                                 \n",
            " global_average_pooling2d (  (None, 512)               0         \n",
            " GlobalAveragePooling2D)                                         \n",
            "                                                                 \n",
            " flatten (Flatten)           (None, 512)               0         \n",
            "                                                                 \n",
            " dense (Dense)               (None, 10)                5130      \n",
            "                                                                 \n",
            "=================================================================\n",
            "Total params: 21300618 (81.26 MB)\n",
            "Trainable params: 21283594 (81.19 MB)\n",
            "Non-trainable params: 17024 (66.50 KB)\n",
            "_________________________________________________________________\n"
          ]
        }
      ]
    }
  ]
}