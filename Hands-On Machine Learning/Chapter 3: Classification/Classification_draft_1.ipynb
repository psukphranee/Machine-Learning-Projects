{
  "nbformat": 4,
  "nbformat_minor": 0,
  "metadata": {
    "colab": {
      "name": "Classification_draft_1.ipynb",
      "provenance": [],
      "collapsed_sections": [],
      "authorship_tag": "ABX9TyPYpWu+s2OjcwJf34fGky3Q",
      "include_colab_link": true
    },
    "kernelspec": {
      "name": "python3",
      "display_name": "Python 3"
    },
    "language_info": {
      "name": "python"
    }
  },
  "cells": [
    {
      "cell_type": "markdown",
      "metadata": {
        "id": "view-in-github",
        "colab_type": "text"
      },
      "source": [
        "<a href=\"https://colab.research.google.com/github/psukphranee/Machine-Learning-Projects/blob/master/Hands-On%20Machine%20Learning/Chapter%203%3A%20Classification/Classification_draft_1.ipynb\" target=\"_parent\"><img src=\"https://colab.research.google.com/assets/colab-badge.svg\" alt=\"Open In Colab\"/></a>"
      ]
    },
    {
      "cell_type": "markdown",
      "metadata": {
        "id": "j_rxzCccwqi2"
      },
      "source": [
        "# Classification"
      ]
    },
    {
      "cell_type": "code",
      "metadata": {
        "id": "0XXdYXCnuwMw"
      },
      "source": [
        "#pull MNIST dataset from OpenML\n",
        "from sklearn.datasets import fetch_openml\n",
        "\n",
        "mnist = fetch_openml(name=\"mnist_784\")"
      ],
      "execution_count": 1,
      "outputs": []
    },
    {
      "cell_type": "code",
      "metadata": {
        "colab": {
          "base_uri": "https://localhost:8080/"
        },
        "id": "7UOI4OsRwtfN",
        "outputId": "91f131cf-d8ee-426e-ffdf-b76448f903ff"
      },
      "source": [
        "mnist.keys()"
      ],
      "execution_count": 2,
      "outputs": [
        {
          "output_type": "execute_result",
          "data": {
            "text/plain": [
              "dict_keys(['data', 'target', 'frame', 'feature_names', 'target_names', 'DESCR', 'details', 'categories', 'url'])"
            ]
          },
          "metadata": {},
          "execution_count": 2
        }
      ]
    },
    {
      "cell_type": "code",
      "metadata": {
        "id": "3Ajs67EMy_ru"
      },
      "source": [
        "X = mnist.data\n",
        "y = mnist.target"
      ],
      "execution_count": 3,
      "outputs": []
    },
    {
      "cell_type": "code",
      "metadata": {
        "colab": {
          "base_uri": "https://localhost:8080/"
        },
        "id": "WXcFjUTvzg7M",
        "outputId": "5f4666ff-af2e-4082-e5d8-493a4b27c877"
      },
      "source": [
        "X.shape"
      ],
      "execution_count": 4,
      "outputs": [
        {
          "output_type": "execute_result",
          "data": {
            "text/plain": [
              "(70000, 784)"
            ]
          },
          "metadata": {},
          "execution_count": 4
        }
      ]
    },
    {
      "cell_type": "code",
      "metadata": {
        "colab": {
          "base_uri": "https://localhost:8080/"
        },
        "id": "CX_6sXbT0BQx",
        "outputId": "595e649d-caa4-43a1-8c0f-f9a0d0f231cf"
      },
      "source": [
        "y.shape"
      ],
      "execution_count": 5,
      "outputs": [
        {
          "output_type": "execute_result",
          "data": {
            "text/plain": [
              "(70000,)"
            ]
          },
          "metadata": {},
          "execution_count": 5
        }
      ]
    },
    {
      "cell_type": "markdown",
      "metadata": {
        "id": "HHUvUWsrBRe3"
      },
      "source": [
        "grab one sample\n"
      ]
    },
    {
      "cell_type": "code",
      "metadata": {
        "id": "XLK0Zkm5BUWR"
      },
      "source": [
        ""
      ],
      "execution_count": 5,
      "outputs": []
    },
    {
      "cell_type": "code",
      "metadata": {
        "colab": {
          "base_uri": "https://localhost:8080/",
          "height": 35
        },
        "id": "ofXQHPFL0KyC",
        "outputId": "442f934b-eb48-4a67-e062-f027edc29649"
      },
      "source": [
        "import numpy as np\n",
        "\n",
        "randIndex = 100#np.random.randint(0, len(X))\n",
        "sample_X = X[randIndex]\n",
        "sample_y = y[randIndex]\n",
        "\n",
        "sample_y"
      ],
      "execution_count": 6,
      "outputs": [
        {
          "output_type": "execute_result",
          "data": {
            "application/vnd.google.colaboratory.intrinsic+json": {
              "type": "string"
            },
            "text/plain": [
              "'5'"
            ]
          },
          "metadata": {},
          "execution_count": 6
        }
      ]
    },
    {
      "cell_type": "code",
      "metadata": {
        "colab": {
          "base_uri": "https://localhost:8080/",
          "height": 282
        },
        "id": "kMZ4LEJc_dFQ",
        "outputId": "3e641749-e4f5-4469-b5ec-53118eb29861"
      },
      "source": [
        "import matplotlib.pyplot as plt\n",
        "import matplotlib as mpl\n",
        "\n",
        "plt.imshow(sample_X.reshape(28,28), cmap=mpl.cm.binary)"
      ],
      "execution_count": 7,
      "outputs": [
        {
          "output_type": "execute_result",
          "data": {
            "text/plain": [
              "<matplotlib.image.AxesImage at 0x7fc1b33e47d0>"
            ]
          },
          "metadata": {},
          "execution_count": 7
        },
        {
          "output_type": "display_data",
          "data": {
            "image/png": "[encoded data removed]",
            "text/plain": [
              "<Figure size 432x288 with 1 Axes>"
            ]
          },
          "metadata": {
            "needs_background": "light"
          }
        }
      ]
    },
    {
      "cell_type": "code",
      "metadata": {
        "id": "2YzDuLV6_2Jw"
      },
      "source": [
        "#grab 100 samples\n",
        "X_samples = X[:3]\n"
      ],
      "execution_count": 8,
      "outputs": []
    },
    {
      "cell_type": "code",
      "metadata": {
        "id": "jTHnRf7gFr5l",
        "colab": {
          "base_uri": "https://localhost:8080/"
        },
        "outputId": "d50b1c17-1830-4eb8-849d-120605372ad2"
      },
      "source": [
        "#scratch work for image array\n",
        "instances = X_samples\n",
        "\n",
        "size = 28\n",
        "images_per_row = 10\n",
        "images_per_row = min(len(instances), images_per_row)\n",
        "n_rows = len(instances) + 1 // images_per_row - 1 #int(np.ceil(len(instances)/images_per_row))\n",
        "\n",
        "#need to pad the remaining elements in the row\n",
        "n_padding = (n_rows * images_per_row) - len(instances)\n",
        "\n",
        "print(n_rows, n_padding, len(instances))"
      ],
      "execution_count": 9,
      "outputs": [
        {
          "output_type": "stream",
          "name": "stdout",
          "text": [
            "2 3 3\n"
          ]
        }
      ]
    },
    {
      "cell_type": "code",
      "metadata": {
        "id": "HaruK9Q6kysz",
        "colab": {
          "base_uri": "https://localhost:8080/"
        },
        "outputId": "9f74e087-f9d0-4598-80f3-012740b08a26"
      },
      "source": [
        "padded_instances = np.concatenate([instances, np.zeros((n_padding, size * size))], axis=0)\n",
        "padded_instances.shape"
      ],
      "execution_count": 10,
      "outputs": [
        {
          "output_type": "execute_result",
          "data": {
            "text/plain": [
              "(6, 784)"
            ]
          },
          "metadata": {},
          "execution_count": 10
        }
      ]
    },
    {
      "cell_type": "code",
      "metadata": {
        "id": "3F2xg3K1kJTE",
        "colab": {
          "base_uri": "https://localhost:8080/"
        },
        "outputId": "c694af1e-77ce-418d-ca6d-90dd35e1d655"
      },
      "source": [
        "image_grid = padded_instances.reshape(n_rows, images_per_row, size, size)\n",
        "image_grid.shape"
      ],
      "execution_count": 11,
      "outputs": [
        {
          "output_type": "execute_result",
          "data": {
            "text/plain": [
              "(2, 3, 28, 28)"
            ]
          },
          "metadata": {},
          "execution_count": 11
        }
      ]
    },
    {
      "cell_type": "code",
      "metadata": {
        "colab": {
          "base_uri": "https://localhost:8080/",
          "height": 282
        },
        "id": "h8pTJKPs_HPn",
        "outputId": "4b8a5feb-6131-436c-aa5f-f3af593f5858"
      },
      "source": [
        "plt.imshow(image_grid[0,1], cmap=mpl.cm.binary)"
      ],
      "execution_count": 12,
      "outputs": [
        {
          "output_type": "execute_result",
          "data": {
            "text/plain": [
              "<matplotlib.image.AxesImage at 0x7fc1b34329d0>"
            ]
          },
          "metadata": {},
          "execution_count": 12
        },
        {
          "output_type": "display_data",
          "data": {
            "image/png": "[encoded data removed]",
            "text/plain": [
              "<Figure size 432x288 with 1 Axes>"
            ]
          },
          "metadata": {
            "needs_background": "light"
          }
        }
      ]
    },
    {
      "cell_type": "code",
      "metadata": {
        "colab": {
          "base_uri": "https://localhost:8080/"
        },
        "id": "RlTENpbL_UpO",
        "outputId": "bfb99b74-9e8c-4ae0-c3b2-d9dc84c0a443"
      },
      "source": [
        "#np.transpose() : For an n-D array, if axes are given, their order indicates how the axes are permuted\n",
        "image_grid2 = image_grid.transpose((0,2,1,3))\n",
        "image_grid2.shape"
      ],
      "execution_count": 13,
      "outputs": [
        {
          "output_type": "execute_result",
          "data": {
            "text/plain": [
              "(2, 28, 3, 28)"
            ]
          },
          "metadata": {},
          "execution_count": 13
        }
      ]
    },
    {
      "cell_type": "code",
      "metadata": {
        "id": "I_wIiNt3BhoH"
      },
      "source": [
        "image_grid2 = image_grid2.reshape(n_rows * size, images_per_row * size)"
      ],
      "execution_count": 14,
      "outputs": []
    },
    {
      "cell_type": "code",
      "metadata": {
        "colab": {
          "base_uri": "https://localhost:8080/"
        },
        "id": "lZT-V8X9GGfW",
        "outputId": "f49125e4-4c1c-4ec5-aae1-68b9026121d2"
      },
      "source": [
        "image_grid2.shape"
      ],
      "execution_count": 15,
      "outputs": [
        {
          "output_type": "execute_result",
          "data": {
            "text/plain": [
              "(56, 84)"
            ]
          },
          "metadata": {},
          "execution_count": 15
        }
      ]
    },
    {
      "cell_type": "code",
      "metadata": {
        "colab": {
          "base_uri": "https://localhost:8080/",
          "height": 284
        },
        "id": "FldwnkJZGMX3",
        "outputId": "87957421-e861-4ec5-f714-9b30b88f4220"
      },
      "source": [
        "plt.imshow(image_grid2, cmap=mpl.cm.binary)"
      ],
      "execution_count": 16,
      "outputs": [
        {
          "output_type": "execute_result",
          "data": {
            "text/plain": [
              "<matplotlib.image.AxesImage at 0x7fc1b348d910>"
            ]
          },
          "metadata": {},
          "execution_count": 16
        },
        {
          "output_type": "display_data",
          "data": {
            "image/png": "[encoded data removed]",
            "text/plain": [
              "<Figure size 432x288 with 1 Axes>"
            ]
          },
          "metadata": {
            "needs_background": "light"
          }
        }
      ]
    },
    {
      "cell_type": "code",
      "metadata": {
        "id": "3PRqUoEhGT-F"
      },
      "source": [
        "def plot_digits(instances, images_per_row=10, **options):\n",
        "\n",
        "  size = 28 # 28 x 28 images\n",
        "  img_per_row = min(len(instances), images_per_row)\n",
        "\n",
        "  #calculate number of rows needed\n",
        "  #this is equivalent to ceil(len(instances)/img_per_row) although I'm not sure how.\n",
        "  #going to read up on this in a discrete math book\n",
        "  n_rows = len(instances) - 1 // img_per_row + 1 \n",
        "\n",
        "  #in case the instances are less than number of rows * the images per row, we'll pad them with zeros\n",
        "  #of 28 x 28 dimension. the rows of padded_instances are images flattened out. \n",
        "  padded_instances = np.concatenate([instances, np.zeros(n_rows, size * size)], axis=0)\n",
        "\n",
        "  #we perform a reshaping of the padded_instances. each row in padded_instances will fill a 28x28 (size x size)\n",
        "  #square. there are n_row * img_per_row of these squares. e.g. the element num_grid[0,0] contains a 28x28\n",
        "  #ndarray of numbers corresponding to the first row of instances\n",
        "  num_grid = padded_instances.rehape(n_rows, img_per_row, size, size)\n",
        "\n",
        "  #num_grid is a 4D array that needs to be mapped to a 2D array before rendering. \n",
        "  #We will have to modify the way the 4D array is indexed, by using the function transpose(), prior to mapping it using reshape().\n",
        "  #ex) num_grid(0,1,12,18) is the (12,18) pixel of image (0,1)\n",
        "  #the operation transpose(0,2,1,3) will modify the index so that the first two indices are rows and last two are columns\n",
        "  #of the image grid and pixels, respectively. For example, the incrementing indices (0,0,0,0) -> (0,0,0,1) -> (0,0,0,2)\n",
        "  #will sweep across the first row of pixels of images num_grid's first row. \n",
        "  num_grid_2D = num_grid.transpose(0,2,1,3).reshape((n_rows * size, img_per_row * size))\n",
        "\n",
        "  mpl.imshow(num_grid_2D)\n"
      ],
      "execution_count": 17,
      "outputs": []
    }
  ]
}