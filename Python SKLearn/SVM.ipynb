{
  "nbformat": 4,
  "nbformat_minor": 0,
  "metadata": {
    "colab": {
      "name": "SVM.ipynb",
      "provenance": [],
      "collapsed_sections": [],
      "authorship_tag": "ABX9TyNpncXLr/z0ZSmdkGZ9/cGw",
      "include_colab_link": true
    },
    "kernelspec": {
      "name": "python3",
      "display_name": "Python 3"
    },
    "language_info": {
      "name": "python"
    }
  },
  "cells": [
    {
      "cell_type": "markdown",
      "metadata": {
        "id": "view-in-github",
        "colab_type": "text"
      },
      "source": [
        "<a href=\"https://colab.research.google.com/github/psukphranee/Machine-Learning-Projects/blob/master/Python%20SKLearn/SVM.ipynb\" target=\"_parent\"><img src=\"https://colab.research.google.com/assets/colab-badge.svg\" alt=\"Open In Colab\"/></a>"
      ]
    },
    {
      "cell_type": "markdown",
      "source": [
        "Import Iris Dataset from SKLearn"
      ],
      "metadata": {
        "id": "uYM1Q-iC6g7P"
      }
    },
    {
      "cell_type": "code",
      "source": [
        "import matplotlib.pyplot as plt\n",
        "import numpy as np\n",
        "import pandas as pd"
      ],
      "metadata": {
        "id": "w0Riz8Y-_OC-"
      },
      "execution_count": 1,
      "outputs": []
    },
    {
      "cell_type": "code",
      "source": [
        "from sklearn import datasets\n",
        "from sklearn.svm import SVC\n"
      ],
      "metadata": {
        "id": "nMxn4fagDK6J"
      },
      "execution_count": 2,
      "outputs": []
    },
    {
      "cell_type": "code",
      "source": [
        "iris = datasets.load_iris()"
      ],
      "metadata": {
        "id": "PPFFIZexFnMo"
      },
      "execution_count": 3,
      "outputs": []
    },
    {
      "cell_type": "code",
      "source": [
        "print(iris.DESCR)"
      ],
      "metadata": {
        "id": "tl1d3UKLCMKw",
        "outputId": "5e2e4ed7-b9b8-4ff2-813b-189727c2a8c8",
        "colab": {
          "base_uri": "https://localhost:8080/"
        }
      },
      "execution_count": 4,
      "outputs": [
        {
          "output_type": "stream",
          "name": "stdout",
          "text": [
            ".. _iris_dataset:\n",
            "\n",
            "Iris plants dataset\n",
            "--------------------\n",
            "\n",
            "**Data Set Characteristics:**\n",
            "\n",
            "    :Number of Instances: 150 (50 in each of three classes)\n",
            "    :Number of Attributes: 4 numeric, predictive attributes and the class\n",
            "    :Attribute Information:\n",
            "        - sepal length in cm\n",
            "        - sepal width in cm\n",
            "        - petal length in cm\n",
            "        - petal width in cm\n",
            "        - class:\n",
            "                - Iris-Setosa\n",
            "                - Iris-Versicolour\n",
            "                - Iris-Virginica\n",
            "                \n",
            "    :Summary Statistics:\n",
            "\n",
            "    ============== ==== ==== ======= ===== ====================\n",
            "                    Min  Max   Mean    SD   Class Correlation\n",
            "    ============== ==== ==== ======= ===== ====================\n",
            "    sepal length:   4.3  7.9   5.84   0.83    0.7826\n",
            "    sepal width:    2.0  4.4   3.05   0.43   -0.4194\n",
            "    petal length:   1.0  6.9   3.76   1.76    0.9490  (high!)\n",
            "    petal width:    0.1  2.5   1.20   0.76    0.9565  (high!)\n",
            "    ============== ==== ==== ======= ===== ====================\n",
            "\n",
            "    :Missing Attribute Values: None\n",
            "    :Class Distribution: 33.3% for each of 3 classes.\n",
            "    :Creator: R.A. Fisher\n",
            "    :Donor: Michael Marshall (MARSHALL%PLU@io.arc.nasa.gov)\n",
            "    :Date: July, 1988\n",
            "\n",
            "The famous Iris database, first used by Sir R.A. Fisher. The dataset is taken\n",
            "from Fisher's paper. Note that it's the same as in R, but not as in the UCI\n",
            "Machine Learning Repository, which has two wrong data points.\n",
            "\n",
            "This is perhaps the best known database to be found in the\n",
            "pattern recognition literature.  Fisher's paper is a classic in the field and\n",
            "is referenced frequently to this day.  (See Duda & Hart, for example.)  The\n",
            "data set contains 3 classes of 50 instances each, where each class refers to a\n",
            "type of iris plant.  One class is linearly separable from the other 2; the\n",
            "latter are NOT linearly separable from each other.\n",
            "\n",
            ".. topic:: References\n",
            "\n",
            "   - Fisher, R.A. \"The use of multiple measurements in taxonomic problems\"\n",
            "     Annual Eugenics, 7, Part II, 179-188 (1936); also in \"Contributions to\n",
            "     Mathematical Statistics\" (John Wiley, NY, 1950).\n",
            "   - Duda, R.O., & Hart, P.E. (1973) Pattern Classification and Scene Analysis.\n",
            "     (Q327.D83) John Wiley & Sons.  ISBN 0-471-22361-1.  See page 218.\n",
            "   - Dasarathy, B.V. (1980) \"Nosing Around the Neighborhood: A New System\n",
            "     Structure and Classification Rule for Recognition in Partially Exposed\n",
            "     Environments\".  IEEE Transactions on Pattern Analysis and Machine\n",
            "     Intelligence, Vol. PAMI-2, No. 1, 67-71.\n",
            "   - Gates, G.W. (1972) \"The Reduced Nearest Neighbor Rule\".  IEEE Transactions\n",
            "     on Information Theory, May 1972, 431-433.\n",
            "   - See also: 1988 MLC Proceedings, 54-64.  Cheeseman et al\"s AUTOCLASS II\n",
            "     conceptual clustering system finds 3 classes in the data.\n",
            "   - Many, many more ...\n"
          ]
        }
      ]
    },
    {
      "cell_type": "markdown",
      "source": [
        "Select Setosa or Versicolor. Train SVM w/ Linear Kernel and no Regularization. i.e. C = infinity"
      ],
      "metadata": {
        "id": "okOzfzXB6tIe"
      }
    },
    {
      "cell_type": "code",
      "source": [
        "X = iris.data[:, (2,3)] #extract petal width/length data\n",
        "y = iris.target\n",
        "\n",
        "setosa_or_versicolor = ( y == 0 ) | ( y == 1 )\n",
        "\n",
        "X = X[setosa_or_versicolor]\n",
        "y = y[setosa_or_versicolor]"
      ],
      "metadata": {
        "id": "QW2yvoUn6ofH"
      },
      "execution_count": 5,
      "outputs": []
    },
    {
      "cell_type": "code",
      "source": [
        "svm_clf = SVC(C=float(\"inf\"), kernel='linear')\n",
        "svm_clf.fit(X,y)"
      ],
      "metadata": {
        "id": "w4yc49tJ7-_t",
        "outputId": "05a05980-8e9e-4700-b908-289e83d6b7c2",
        "colab": {
          "base_uri": "https://localhost:8080/"
        }
      },
      "execution_count": 6,
      "outputs": [
        {
          "output_type": "execute_result",
          "data": {
            "text/plain": [
              "SVC(C=inf, kernel='linear')"
            ]
          },
          "metadata": {},
          "execution_count": 6
        }
      ]
    },
    {
      "cell_type": "markdown",
      "source": [
        "Manually plot decision boundary before turning it into a function"
      ],
      "metadata": {
        "id": "kckX4ga38Wf7"
      }
    },
    {
      "cell_type": "code",
      "source": [
        "#the coeff property of the SVM has wieghts of each feature. \n",
        "#sigmoid(w0*x0 + w1*x1 * b) \n",
        "#thus at decision boundary, w0*x0 + w1*x1 * b = 0\n",
        "\n",
        "b = svm_clf.intercept_[0]\n",
        "w0 = svm_clf.coef_[0][0]\n",
        "w1 = svm_clf.coef_[0][1]\n",
        "\n",
        "left_right = np.array([0.1, 5.2])\n",
        "up_down = -(w0*left_right + b)/w1\n",
        "\n",
        "plt.figure(figsize=(8,4))\n",
        "\n",
        "plt.plot(left_right, up_down)\n",
        "\n",
        "plt.plot(X[y==1,0], X[y==1, 1], 'bs', label='Iris Versicolor')\n",
        "plt.plot(X[y==0,0], X[y==0, 1], 'g^', label=\"Iris Setosa\")\n",
        "\n",
        "plt.ylabel(\"Petal Width\")\n",
        "plt.xlabel(\"Petal Length\")\n",
        "plt.axis([0.6, 5.3, 0, 2])\n",
        "plt.legend(fontsize=14)"
      ],
      "metadata": {
        "id": "P-_e-5ku7c-l",
        "outputId": "6efd80f0-6267-4f77-f77b-3c010587b64b",
        "colab": {
          "base_uri": "https://localhost:8080/",
          "height": 301
        }
      },
      "execution_count": 7,
      "outputs": [
        {
          "output_type": "execute_result",
          "data": {
            "text/plain": [
              "<matplotlib.legend.Legend at 0x7f9061135310>"
            ]
          },
          "metadata": {},
          "execution_count": 7
        },
        {
          "output_type": "display_data",
          "data": {
            "text/plain": [
              "<Figure size 576x288 with 1 Axes>"
            ],
            "image/png": "[encoded data removed]"
          },
          "metadata": {
            "needs_background": "light"
          }
        }
      ]
    },
    {
      "cell_type": "code",
      "source": [
        "#define boundary plotting function\n",
        "\n",
        "def plot_decision_boundary(svm_model, xmin, xmax):\n",
        "  b = svm_model.intercept_[0]\n",
        "  w = svm_model.coef_[0]\n",
        "  w0 = w[0]\n",
        "  w1 = w[1]\n",
        "\n",
        "  left_right = np.array([xmin, xmax])\n",
        "  decision_boundary = -(w0*left_right + b)/w1\n",
        "\n",
        "  margin = 1/w1 #why? review equation\n",
        "  gutter_up = decision_boundary + margin\n",
        "  gutter_down = decision_boundary - margin\n",
        "\n",
        "  #plt.figure(figsize=(8,4))\n",
        "  plt.plot(left_right, decision_boundary)\n",
        "  plt.plot(left_right, gutter_up, 'k--')\n",
        "  plt.plot(left_right, gutter_down, 'k--')\n",
        "\n",
        "plt.figure(figsize=(8,8))\n",
        "plt.plot(X[y==1,0], X[y==1, 1], 'bs', label='Iris Versicolor')\n",
        "plt.plot(X[y==0,0], X[y==0, 1], 'g^', label=\"Iris Setosa\")\n",
        "plt.ylabel(\"Petal Width\")\n",
        "plt.xlabel(\"Petal Length\")\n",
        "plt.axis([0.6, 5.3, 0, 2])\n",
        "plt.legend(fontsize=14)\n",
        "\n",
        "#plt.scatter(svm_clf.support_vectors_[:,0], svm_clf.support_vectors_[:1], s=180)\n",
        "\n",
        "plot_decision_boundary(svm_clf, .6, 5)"
      ],
      "metadata": {
        "id": "xhB5WeryCHEz",
        "colab": {
          "base_uri": "https://localhost:8080/",
          "height": 501
        },
        "outputId": "5f36c2e0-b095-4420-b624-5894ab39c0ee"
      },
      "execution_count": 33,
      "outputs": [
        {
          "output_type": "display_data",
          "data": {
            "text/plain": [
              "<Figure size 576x576 with 1 Axes>"
            ],
            "image/png": "[encoded data removed]"
          },
          "metadata": {
            "needs_background": "light"
          }
        }
      ]
    },
    {
      "cell_type": "code",
      "source": [
        "svm_clf.support_vectors_"
      ],
      "metadata": {
        "id": "0L5FkSNl8V_E",
        "outputId": "88e74399-44aa-4ca7-e002-103a520fb929",
        "colab": {
          "base_uri": "https://localhost:8080/"
        }
      },
      "execution_count": 18,
      "outputs": [
        {
          "output_type": "execute_result",
          "data": {
            "text/plain": [
              "array([[1.9, 0.4],\n",
              "       [3. , 1.1]])"
            ]
          },
          "metadata": {},
          "execution_count": 18
        }
      ]
    },
    {
      "cell_type": "markdown",
      "source": [
        "Show SVM sensitiivty to feature scaling"
      ],
      "metadata": {
        "id": "70uLLseDQKoF"
      }
    },
    {
      "cell_type": "code",
      "source": [
        "#use the following 4 point dataset\n",
        "Xs = np.array([[1, 50], [5, 20], [3, 80], [5, 60]]).astype(np.float64)\n",
        "ys = np.array([0, 0, 1, 1])"
      ],
      "metadata": {
        "id": "N4pQYFP8-FZ6"
      },
      "execution_count": 34,
      "outputs": []
    },
    {
      "cell_type": "code",
      "source": [
        "#plot figures side by side\n",
        "\n",
        "plt.subplots()"
      ],
      "metadata": {
        "id": "Q95sLqwvQbkM"
      },
      "execution_count": null,
      "outputs": []
    }
  ]
}