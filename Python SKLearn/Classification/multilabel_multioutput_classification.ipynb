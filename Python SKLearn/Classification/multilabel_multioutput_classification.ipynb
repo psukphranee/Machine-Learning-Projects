{
  "nbformat": 4,
  "nbformat_minor": 0,
  "metadata": {
    "colab": {
      "name": "multilabel_multioutput_classification.ipynb",
      "provenance": [],
      "authorship_tag": "ABX9TyND82hZADA5ttiK81FFkAzu",
      "include_colab_link": true
    },
    "kernelspec": {
      "name": "python3",
      "display_name": "Python 3"
    },
    "language_info": {
      "name": "python"
    }
  },
  "cells": [
    {
      "cell_type": "markdown",
      "metadata": {
        "id": "view-in-github",
        "colab_type": "text"
      },
      "source": [
        "<a href=\"https://colab.research.google.com/github/psukphranee/Machine-Learning-Projects/blob/master/Python%20SKLearn/Classification/multilabel_multioutput_classification.ipynb\" target=\"_parent\"><img src=\"https://colab.research.google.com/assets/colab-badge.svg\" alt=\"Open In Colab\"/></a>"
      ]
    },
    {
      "cell_type": "markdown",
      "source": [
        "# Multilabel and Multioutput Classification"
      ],
      "metadata": {
        "id": "2d1qII8pNIGP"
      }
    },
    {
      "cell_type": "markdown",
      "source": [
        "## Pull Data"
      ],
      "metadata": {
        "id": "OtOhz3fsNPK8"
      }
    },
    {
      "cell_type": "code",
      "execution_count": 1,
      "metadata": {
        "id": "SuKegKmsM-kk"
      },
      "outputs": [],
      "source": [
        "from sklearn.datasets import fetch_openml\n",
        "\n",
        "mnist = fetch_openml('mnist_784', as_frame=False)\n",
        "\n",
        "X = mnist.data\n",
        "y = mnist.target"
      ]
    },
    {
      "cell_type": "code",
      "source": [
        "import numpy as np\n",
        "\n",
        "y = y.astype(np.uint8)\n",
        "X_train, y_train, X_test, y_test = X[:60000,:], y[:60000], X[60000:,:], y[60000:]\n"
      ],
      "metadata": {
        "id": "JqxUHoBVOtcM"
      },
      "execution_count": 2,
      "outputs": []
    },
    {
      "cell_type": "markdown",
      "source": [
        "## Multilabel Classification\n",
        "\n",
        "We'll train a K-nearest Neighbors algorithm on our training set with two labels: whether it's >= 7 and whether or not it's odd. The algorithm KNN model natively supports multiple labels, but not all models do."
      ],
      "metadata": {
        "id": "LDpH6q9ZPpqM"
      }
    },
    {
      "cell_type": "code",
      "source": [
        "from sklearn.neighbors import KNeighborsClassifier\n",
        "\n",
        "knn_clf = KNeighborsClassifier()"
      ],
      "metadata": {
        "id": "i8ipBplzQpWp"
      },
      "execution_count": 3,
      "outputs": []
    },
    {
      "cell_type": "code",
      "source": [
        "#filter labels, one for odd and the other \\geq 7\n",
        "y_train_geq_7 = y_train >= 7\n",
        "y_train_odd = (y_train % 2) == 1\n",
        "\n",
        "y_train_multi = np.c_[y_train_geq_7, y_train_odd]"
      ],
      "metadata": {
        "id": "HdTPscc5QyfX"
      },
      "execution_count": 4,
      "outputs": []
    },
    {
      "cell_type": "code",
      "source": [
        "knn_clf.fit(X_train, y_train_multi)"
      ],
      "metadata": {
        "colab": {
          "base_uri": "https://localhost:8080/"
        },
        "id": "UW9LkR9wRpYk",
        "outputId": "154b2689-9182-4eff-a49e-af0d7cab22a3"
      },
      "execution_count": 5,
      "outputs": [
        {
          "output_type": "execute_result",
          "data": {
            "text/plain": [
              "KNeighborsClassifier()"
            ]
          },
          "metadata": {},
          "execution_count": 5
        }
      ]
    },
    {
      "cell_type": "markdown",
      "source": [
        "Select a random sample. Inspect it and see how what our multilabel model predicts."
      ],
      "metadata": {
        "id": "4zCV4WWUTfFm"
      }
    },
    {
      "cell_type": "code",
      "source": [
        "#select a random sample and see what our model predicts\n",
        "rand_index = (np.random.randint(0, 60000))\n",
        "X_sample = X_train[rand_index]\n",
        "y_sample = y_train[rand_index]"
      ],
      "metadata": {
        "id": "jGS7cbSSR9cf"
      },
      "execution_count": 6,
      "outputs": []
    },
    {
      "cell_type": "code",
      "source": [
        "import matplotlib.pyplot as plt"
      ],
      "metadata": {
        "id": "Ew_AJYB3T_Wr"
      },
      "execution_count": 7,
      "outputs": []
    },
    {
      "cell_type": "code",
      "source": [
        "plt.matshow(X_sample.reshape(28,28))\n",
        "plt.show()\n",
        "display(y_sample)"
      ],
      "metadata": {
        "colab": {
          "base_uri": "https://localhost:8080/",
          "height": 292
        },
        "id": "Q-bIjcrFUENE",
        "outputId": "4005a50d-4f58-48dc-8df2-3f417f065e54"
      },
      "execution_count": 8,
      "outputs": [
        {
          "output_type": "display_data",
          "data": {
            "image/png": "[encoded data removed]",
            "text/plain": [
              "<Figure size 288x288 with 1 Axes>"
            ]
          },
          "metadata": {
            "needs_background": "light"
          }
        },
        {
          "output_type": "display_data",
          "data": {
            "text/plain": [
              "5"
            ]
          },
          "metadata": {}
        }
      ]
    },
    {
      "cell_type": "code",
      "source": [
        "knn_clf.predict([X_sample])"
      ],
      "metadata": {
        "colab": {
          "base_uri": "https://localhost:8080/"
        },
        "id": "ZknWAW2xUqXZ",
        "outputId": "fd6a00ba-6e96-4955-c879-3c51dc832bf8"
      },
      "execution_count": 9,
      "outputs": [
        {
          "output_type": "execute_result",
          "data": {
            "text/plain": [
              "array([[False,  True]])"
            ]
          },
          "metadata": {},
          "execution_count": 9
        }
      ]
    },
    {
      "cell_type": "code",
      "source": [
        "from sklearn.model_selection import cross_val_predict\n",
        "from sklearn.metrics import f1_score\n",
        "\n",
        "y_train_knn_pred = cross_val_predict(knn_clf, X_train, y_train_multi, cv=3)\n",
        "f1_score(y_train_multi, y_train_knn_pred, average='macro')\n"
      ],
      "metadata": {
        "id": "GMwlXAtVkr6g",
        "outputId": "63468e07-2f7c-4f56-c3b9-2a8398396186",
        "colab": {
          "base_uri": "https://localhost:8080/"
        }
      },
      "execution_count": 11,
      "outputs": [
        {
          "output_type": "execute_result",
          "data": {
            "text/plain": [
              "0.976410265560605"
            ]
          },
          "metadata": {},
          "execution_count": 11
        }
      ]
    }
  ]
}